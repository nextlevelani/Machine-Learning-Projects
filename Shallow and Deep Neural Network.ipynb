{
  "nbformat": 4,
  "nbformat_minor": 0,
  "metadata": {
    "colab": {
      "provenance": []
    },
    "kernelspec": {
      "name": "python3",
      "display_name": "Python 3"
    },
    "language_info": {
      "name": "python"
    }
  },
  "cells": [
    {
      "cell_type": "code",
      "execution_count": null,
      "metadata": {
        "id": "Ry5VO8GjQvwm"
      },
      "outputs": [],
      "source": [
        "import numpy as np\n",
        "import pandas as pd\n",
        "import matplotlib.pyplot as plt\n",
        "import seaborn as sns\n"
      ]
    },
    {
      "cell_type": "code",
      "source": [
        "df = pd.read_csv('/content/diabetes.csv')"
      ],
      "metadata": {
        "id": "SFo9oV7IRAUn"
      },
      "execution_count": null,
      "outputs": []
    },
    {
      "cell_type": "code",
      "source": [
        "df.shape"
      ],
      "metadata": {
        "colab": {
          "base_uri": "https://localhost:8080/"
        },
        "id": "kX82hXvWRAcM",
        "outputId": "abc7615f-b0c9-4e90-9f95-c4460686c502"
      },
      "execution_count": null,
      "outputs": [
        {
          "output_type": "execute_result",
          "data": {
            "text/plain": [
              "(768, 9)"
            ]
          },
          "metadata": {},
          "execution_count": 59
        }
      ]
    },
    {
      "cell_type": "code",
      "source": [
        "from sklearn.model_selection import train_test_split\n",
        "X = df.iloc[:,0:8]\n",
        "y = df.iloc[:,8]"
      ],
      "metadata": {
        "id": "rQhxRvmMRMtI"
      },
      "execution_count": null,
      "outputs": []
    },
    {
      "cell_type": "code",
      "source": [
        "X.shape"
      ],
      "metadata": {
        "colab": {
          "base_uri": "https://localhost:8080/"
        },
        "id": "T46Oc1nlRm5i",
        "outputId": "886b9bb7-f2e1-47b1-a7d9-43a66cadb5ec"
      },
      "execution_count": null,
      "outputs": [
        {
          "output_type": "execute_result",
          "data": {
            "text/plain": [
              "(768, 8)"
            ]
          },
          "metadata": {},
          "execution_count": 61
        }
      ]
    },
    {
      "cell_type": "code",
      "source": [
        "y.shape"
      ],
      "metadata": {
        "colab": {
          "base_uri": "https://localhost:8080/"
        },
        "id": "vz_KjZdQRoWJ",
        "outputId": "27b78676-f5c2-4407-c60f-6e89042f9c44"
      },
      "execution_count": null,
      "outputs": [
        {
          "output_type": "execute_result",
          "data": {
            "text/plain": [
              "(768,)"
            ]
          },
          "metadata": {},
          "execution_count": 62
        }
      ]
    },
    {
      "cell_type": "code",
      "source": [
        "y"
      ],
      "metadata": {
        "colab": {
          "base_uri": "https://localhost:8080/"
        },
        "id": "ZLfU9GJyZZev",
        "outputId": "c03943fa-b59e-4d1c-81ab-547f43d1ca83"
      },
      "execution_count": null,
      "outputs": [
        {
          "output_type": "execute_result",
          "data": {
            "text/plain": [
              "0      1\n",
              "1      0\n",
              "2      1\n",
              "3      0\n",
              "4      1\n",
              "      ..\n",
              "763    0\n",
              "764    0\n",
              "765    0\n",
              "766    1\n",
              "767    0\n",
              "Name: Outcome, Length: 768, dtype: int64"
            ]
          },
          "metadata": {},
          "execution_count": 70
        }
      ]
    },
    {
      "cell_type": "code",
      "source": [
        "X_train,X_test,y_train,y_test=train_test_split(X,y,test_size=0.3,random_state=42)"
      ],
      "metadata": {
        "id": "9B6YkDkbRqnN"
      },
      "execution_count": null,
      "outputs": []
    },
    {
      "cell_type": "code",
      "source": [
        "from keras.models import Sequential\n",
        "from keras.layers import Dense\n",
        "from tensorflow.keras.optimizers import SGD, Adam\n"
      ],
      "metadata": {
        "id": "T8ZA8bakR2sS"
      },
      "execution_count": null,
      "outputs": []
    },
    {
      "cell_type": "code",
      "source": [
        "#shallow Model\n",
        "model=Sequential()\n",
        "model.add(Dense(1,input_dim=8,activation='sigmoid'))\n"
      ],
      "metadata": {
        "id": "sXmy79hRSh49"
      },
      "execution_count": null,
      "outputs": []
    },
    {
      "cell_type": "code",
      "source": [
        "model.compile(Adam(lr=0.05),'binary_crossentropy',metrics=['accuracy'])"
      ],
      "metadata": {
        "colab": {
          "base_uri": "https://localhost:8080/"
        },
        "id": "l4EPpMlUS6Hq",
        "outputId": "0c81a7dc-b75a-4a09-d74f-785d55b5c6a7"
      },
      "execution_count": null,
      "outputs": [
        {
          "output_type": "stream",
          "name": "stderr",
          "text": [
            "/usr/local/lib/python3.7/dist-packages/keras/optimizer_v2/adam.py:105: UserWarning: The `lr` argument is deprecated, use `learning_rate` instead.\n",
            "  super(Adam, self).__init__(name, **kwargs)\n"
          ]
        }
      ]
    },
    {
      "cell_type": "code",
      "source": [
        "model.fit(X_train,y_train,epochs=50)"
      ],
      "metadata": {
        "colab": {
          "base_uri": "https://localhost:8080/"
        },
        "id": "DlCpvnXbTC8-",
        "outputId": "2b3efd44-b0d9-4b7e-9759-78d548e88ab2"
      },
      "execution_count": null,
      "outputs": [
        {
          "output_type": "stream",
          "name": "stdout",
          "text": [
            "Epoch 1/50\n",
            "17/17 [==============================] - 0s 2ms/step - loss: 16.2264 - accuracy: 0.4544\n",
            "Epoch 2/50\n",
            "17/17 [==============================] - 0s 2ms/step - loss: 5.2056 - accuracy: 0.5233\n",
            "Epoch 3/50\n",
            "17/17 [==============================] - 0s 2ms/step - loss: 2.6812 - accuracy: 0.5587\n",
            "Epoch 4/50\n",
            "17/17 [==============================] - 0s 2ms/step - loss: 1.7242 - accuracy: 0.5847\n",
            "Epoch 5/50\n",
            "17/17 [==============================] - 0s 2ms/step - loss: 1.4448 - accuracy: 0.6201\n",
            "Epoch 6/50\n",
            "17/17 [==============================] - 0s 2ms/step - loss: 1.0064 - accuracy: 0.6555\n",
            "Epoch 7/50\n",
            "17/17 [==============================] - 0s 2ms/step - loss: 0.7972 - accuracy: 0.6276\n",
            "Epoch 8/50\n",
            "17/17 [==============================] - 0s 2ms/step - loss: 0.9383 - accuracy: 0.6238\n",
            "Epoch 9/50\n",
            "17/17 [==============================] - 0s 2ms/step - loss: 1.1507 - accuracy: 0.5829\n",
            "Epoch 10/50\n",
            "17/17 [==============================] - 0s 2ms/step - loss: 0.9869 - accuracy: 0.6294\n",
            "Epoch 11/50\n",
            "17/17 [==============================] - 0s 2ms/step - loss: 0.8460 - accuracy: 0.6313\n",
            "Epoch 12/50\n",
            "17/17 [==============================] - 0s 2ms/step - loss: 0.9036 - accuracy: 0.6387\n",
            "Epoch 13/50\n",
            "17/17 [==============================] - 0s 2ms/step - loss: 0.7810 - accuracy: 0.6034\n",
            "Epoch 14/50\n",
            "17/17 [==============================] - 0s 2ms/step - loss: 0.7633 - accuracy: 0.5959\n",
            "Epoch 15/50\n",
            "17/17 [==============================] - 0s 2ms/step - loss: 0.6797 - accuracy: 0.6685\n",
            "Epoch 16/50\n",
            "17/17 [==============================] - 0s 2ms/step - loss: 0.7234 - accuracy: 0.6592\n",
            "Epoch 17/50\n",
            "17/17 [==============================] - 0s 2ms/step - loss: 0.9321 - accuracy: 0.5885\n",
            "Epoch 18/50\n",
            "17/17 [==============================] - 0s 2ms/step - loss: 1.0740 - accuracy: 0.5903\n",
            "Epoch 19/50\n",
            "17/17 [==============================] - 0s 2ms/step - loss: 0.8300 - accuracy: 0.6536\n",
            "Epoch 20/50\n",
            "17/17 [==============================] - 0s 2ms/step - loss: 1.0286 - accuracy: 0.6127\n",
            "Epoch 21/50\n",
            "17/17 [==============================] - 0s 2ms/step - loss: 1.1624 - accuracy: 0.5903\n",
            "Epoch 22/50\n",
            "17/17 [==============================] - 0s 2ms/step - loss: 0.9765 - accuracy: 0.6052\n",
            "Epoch 23/50\n",
            "17/17 [==============================] - 0s 2ms/step - loss: 0.7928 - accuracy: 0.6611\n",
            "Epoch 24/50\n",
            "17/17 [==============================] - 0s 2ms/step - loss: 0.8905 - accuracy: 0.6052\n",
            "Epoch 25/50\n",
            "17/17 [==============================] - 0s 2ms/step - loss: 0.8008 - accuracy: 0.6313\n",
            "Epoch 26/50\n",
            "17/17 [==============================] - 0s 2ms/step - loss: 0.7917 - accuracy: 0.6592\n",
            "Epoch 27/50\n",
            "17/17 [==============================] - 0s 2ms/step - loss: 0.7600 - accuracy: 0.6555\n",
            "Epoch 28/50\n",
            "17/17 [==============================] - 0s 2ms/step - loss: 0.7372 - accuracy: 0.6499\n",
            "Epoch 29/50\n",
            "17/17 [==============================] - 0s 2ms/step - loss: 0.8804 - accuracy: 0.6127\n",
            "Epoch 30/50\n",
            "17/17 [==============================] - 0s 2ms/step - loss: 0.7564 - accuracy: 0.6480\n",
            "Epoch 31/50\n",
            "17/17 [==============================] - 0s 2ms/step - loss: 0.8383 - accuracy: 0.6238\n",
            "Epoch 32/50\n",
            "17/17 [==============================] - 0s 2ms/step - loss: 0.6176 - accuracy: 0.6927\n",
            "Epoch 33/50\n",
            "17/17 [==============================] - 0s 1ms/step - loss: 0.7108 - accuracy: 0.6927\n",
            "Epoch 34/50\n",
            "17/17 [==============================] - 0s 2ms/step - loss: 0.7586 - accuracy: 0.6536\n",
            "Epoch 35/50\n",
            "17/17 [==============================] - 0s 2ms/step - loss: 0.7112 - accuracy: 0.6723\n",
            "Epoch 36/50\n",
            "17/17 [==============================] - 0s 2ms/step - loss: 0.8981 - accuracy: 0.6071\n",
            "Epoch 37/50\n",
            "17/17 [==============================] - 0s 2ms/step - loss: 0.6925 - accuracy: 0.6760\n",
            "Epoch 38/50\n",
            "17/17 [==============================] - 0s 2ms/step - loss: 0.7387 - accuracy: 0.6704\n",
            "Epoch 39/50\n",
            "17/17 [==============================] - 0s 2ms/step - loss: 0.6911 - accuracy: 0.7039\n",
            "Epoch 40/50\n",
            "17/17 [==============================] - 0s 2ms/step - loss: 0.9319 - accuracy: 0.6220\n",
            "Epoch 41/50\n",
            "17/17 [==============================] - 0s 2ms/step - loss: 0.8860 - accuracy: 0.6257\n",
            "Epoch 42/50\n",
            "17/17 [==============================] - 0s 2ms/step - loss: 0.8585 - accuracy: 0.6555\n",
            "Epoch 43/50\n",
            "17/17 [==============================] - 0s 2ms/step - loss: 0.5894 - accuracy: 0.7225\n",
            "Epoch 44/50\n",
            "17/17 [==============================] - 0s 2ms/step - loss: 0.6557 - accuracy: 0.6909\n",
            "Epoch 45/50\n",
            "17/17 [==============================] - 0s 2ms/step - loss: 0.6955 - accuracy: 0.6853\n",
            "Epoch 46/50\n",
            "17/17 [==============================] - 0s 2ms/step - loss: 0.9178 - accuracy: 0.6331\n",
            "Epoch 47/50\n",
            "17/17 [==============================] - 0s 2ms/step - loss: 1.2995 - accuracy: 0.6071\n",
            "Epoch 48/50\n",
            "17/17 [==============================] - 0s 2ms/step - loss: 0.7096 - accuracy: 0.6834\n",
            "Epoch 49/50\n",
            "17/17 [==============================] - 0s 2ms/step - loss: 0.6614 - accuracy: 0.6965\n",
            "Epoch 50/50\n",
            "17/17 [==============================] - 0s 2ms/step - loss: 0.8745 - accuracy: 0.6369\n"
          ]
        },
        {
          "output_type": "execute_result",
          "data": {
            "text/plain": [
              "<keras.callbacks.History at 0x7fcbdde83e10>"
            ]
          },
          "metadata": {},
          "execution_count": 47
        }
      ]
    },
    {
      "cell_type": "code",
      "source": [
        "result=model.evaluate(X_test,y_test)"
      ],
      "metadata": {
        "colab": {
          "base_uri": "https://localhost:8080/"
        },
        "id": "fGKbj7tSTNiJ",
        "outputId": "53e26519-384d-429a-a0f0-775c098011ab"
      },
      "execution_count": null,
      "outputs": [
        {
          "output_type": "stream",
          "name": "stdout",
          "text": [
            "8/8 [==============================] - 0s 2ms/step - loss: 1.8004 - accuracy: 0.6537\n"
          ]
        }
      ]
    },
    {
      "cell_type": "code",
      "source": [
        "print('The accuracy score is:\\t {:0.3f}'.format(result[1]))"
      ],
      "metadata": {
        "colab": {
          "base_uri": "https://localhost:8080/"
        },
        "id": "FKV-oLzgThTA",
        "outputId": "88c6d4ae-18cb-4a46-efad-af5def43b1e8"
      },
      "execution_count": null,
      "outputs": [
        {
          "output_type": "stream",
          "name": "stdout",
          "text": [
            "The accuracy score is:\t 0.654\n"
          ]
        }
      ]
    },
    {
      "cell_type": "code",
      "source": [],
      "metadata": {
        "id": "slNWEF6GXXEj"
      },
      "execution_count": null,
      "outputs": []
    },
    {
      "cell_type": "code",
      "source": [
        "#Deep Network\n",
        "model=Sequential()\n",
        "model.add(Dense(12,input_dim=8,activation='tanh'))\n",
        "model.add(Dense(8,activation='tanh'))\n",
        "model.add(Dense(1,activation='sigmoid'))\n"
      ],
      "metadata": {
        "id": "dHfiBTqBTvzN"
      },
      "execution_count": null,
      "outputs": []
    },
    {
      "cell_type": "code",
      "source": [
        "model.compile(optimizer='adam',loss='binary_crossentropy',metrics=['accuracy'])"
      ],
      "metadata": {
        "id": "63DQhjCuUAzT"
      },
      "execution_count": null,
      "outputs": []
    },
    {
      "cell_type": "code",
      "source": [
        "model.fit(X,y,epochs=50,batch_size=10)"
      ],
      "metadata": {
        "colab": {
          "base_uri": "https://localhost:8080/"
        },
        "id": "Uqc3tpHiUETx",
        "outputId": "1687473e-4bd2-4973-b35d-e766d534cafc"
      },
      "execution_count": null,
      "outputs": [
        {
          "output_type": "stream",
          "name": "stdout",
          "text": [
            "Epoch 1/50\n",
            "77/77 [==============================] - 0s 2ms/step - loss: 0.6020 - accuracy: 0.6992\n",
            "Epoch 2/50\n",
            "77/77 [==============================] - 0s 2ms/step - loss: 0.5981 - accuracy: 0.7057\n",
            "Epoch 3/50\n",
            "77/77 [==============================] - 0s 2ms/step - loss: 0.5995 - accuracy: 0.7057\n",
            "Epoch 4/50\n",
            "77/77 [==============================] - 0s 2ms/step - loss: 0.5932 - accuracy: 0.7005\n",
            "Epoch 5/50\n",
            "77/77 [==============================] - 0s 2ms/step - loss: 0.6017 - accuracy: 0.6966\n",
            "Epoch 6/50\n",
            "77/77 [==============================] - 0s 2ms/step - loss: 0.5914 - accuracy: 0.7057\n",
            "Epoch 7/50\n",
            "77/77 [==============================] - 0s 2ms/step - loss: 0.5883 - accuracy: 0.7005\n",
            "Epoch 8/50\n",
            "77/77 [==============================] - 0s 2ms/step - loss: 0.5869 - accuracy: 0.7057\n",
            "Epoch 9/50\n",
            "77/77 [==============================] - 0s 2ms/step - loss: 0.5820 - accuracy: 0.7018\n",
            "Epoch 10/50\n",
            "77/77 [==============================] - 0s 2ms/step - loss: 0.5872 - accuracy: 0.6979\n",
            "Epoch 11/50\n",
            "77/77 [==============================] - 0s 2ms/step - loss: 0.5906 - accuracy: 0.6901\n",
            "Epoch 12/50\n",
            "77/77 [==============================] - 0s 2ms/step - loss: 0.5760 - accuracy: 0.7031\n",
            "Epoch 13/50\n",
            "77/77 [==============================] - 0s 2ms/step - loss: 0.5809 - accuracy: 0.7044\n",
            "Epoch 14/50\n",
            "77/77 [==============================] - 0s 2ms/step - loss: 0.5785 - accuracy: 0.7018\n",
            "Epoch 15/50\n",
            "77/77 [==============================] - 0s 2ms/step - loss: 0.5756 - accuracy: 0.7070\n",
            "Epoch 16/50\n",
            "77/77 [==============================] - 0s 2ms/step - loss: 0.5805 - accuracy: 0.7031\n",
            "Epoch 17/50\n",
            "77/77 [==============================] - 0s 2ms/step - loss: 0.5751 - accuracy: 0.7070\n",
            "Epoch 18/50\n",
            "77/77 [==============================] - 0s 2ms/step - loss: 0.5717 - accuracy: 0.7044\n",
            "Epoch 19/50\n",
            "77/77 [==============================] - 0s 2ms/step - loss: 0.5774 - accuracy: 0.7109\n",
            "Epoch 20/50\n",
            "77/77 [==============================] - 0s 2ms/step - loss: 0.5725 - accuracy: 0.7057\n",
            "Epoch 21/50\n",
            "77/77 [==============================] - 0s 2ms/step - loss: 0.5690 - accuracy: 0.7096\n",
            "Epoch 22/50\n",
            "77/77 [==============================] - 0s 2ms/step - loss: 0.5688 - accuracy: 0.7070\n",
            "Epoch 23/50\n",
            "77/77 [==============================] - 0s 2ms/step - loss: 0.5661 - accuracy: 0.7109\n",
            "Epoch 24/50\n",
            "77/77 [==============================] - 0s 2ms/step - loss: 0.5673 - accuracy: 0.7109\n",
            "Epoch 25/50\n",
            "77/77 [==============================] - 0s 2ms/step - loss: 0.5653 - accuracy: 0.7122\n",
            "Epoch 26/50\n",
            "77/77 [==============================] - 0s 2ms/step - loss: 0.5657 - accuracy: 0.7083\n",
            "Epoch 27/50\n",
            "77/77 [==============================] - 0s 2ms/step - loss: 0.5670 - accuracy: 0.7161\n",
            "Epoch 28/50\n",
            "77/77 [==============================] - 0s 2ms/step - loss: 0.5669 - accuracy: 0.7109\n",
            "Epoch 29/50\n",
            "77/77 [==============================] - 0s 2ms/step - loss: 0.5655 - accuracy: 0.7109\n",
            "Epoch 30/50\n",
            "77/77 [==============================] - 0s 2ms/step - loss: 0.5778 - accuracy: 0.6888\n",
            "Epoch 31/50\n",
            "77/77 [==============================] - 0s 2ms/step - loss: 0.5602 - accuracy: 0.7148\n",
            "Epoch 32/50\n",
            "77/77 [==============================] - 0s 2ms/step - loss: 0.5663 - accuracy: 0.7044\n",
            "Epoch 33/50\n",
            "77/77 [==============================] - 0s 2ms/step - loss: 0.5658 - accuracy: 0.7083\n",
            "Epoch 34/50\n",
            "77/77 [==============================] - 0s 2ms/step - loss: 0.5610 - accuracy: 0.7096\n",
            "Epoch 35/50\n",
            "77/77 [==============================] - 0s 2ms/step - loss: 0.5587 - accuracy: 0.7161\n",
            "Epoch 36/50\n",
            "77/77 [==============================] - 0s 2ms/step - loss: 0.5630 - accuracy: 0.7096\n",
            "Epoch 37/50\n",
            "77/77 [==============================] - 0s 2ms/step - loss: 0.5616 - accuracy: 0.7096\n",
            "Epoch 38/50\n",
            "77/77 [==============================] - 0s 2ms/step - loss: 0.5594 - accuracy: 0.7201\n",
            "Epoch 39/50\n",
            "77/77 [==============================] - 0s 2ms/step - loss: 0.5606 - accuracy: 0.7044\n",
            "Epoch 40/50\n",
            "77/77 [==============================] - 0s 2ms/step - loss: 0.5607 - accuracy: 0.7148\n",
            "Epoch 41/50\n",
            "77/77 [==============================] - 0s 2ms/step - loss: 0.5594 - accuracy: 0.7057\n",
            "Epoch 42/50\n",
            "77/77 [==============================] - 0s 2ms/step - loss: 0.5672 - accuracy: 0.7044\n",
            "Epoch 43/50\n",
            "77/77 [==============================] - 0s 2ms/step - loss: 0.5633 - accuracy: 0.7083\n",
            "Epoch 44/50\n",
            "77/77 [==============================] - 0s 2ms/step - loss: 0.5639 - accuracy: 0.7096\n",
            "Epoch 45/50\n",
            "77/77 [==============================] - 0s 2ms/step - loss: 0.5609 - accuracy: 0.7070\n",
            "Epoch 46/50\n",
            "77/77 [==============================] - 0s 2ms/step - loss: 0.5611 - accuracy: 0.7070\n",
            "Epoch 47/50\n",
            "77/77 [==============================] - 0s 2ms/step - loss: 0.5589 - accuracy: 0.7083\n",
            "Epoch 48/50\n",
            "77/77 [==============================] - 0s 2ms/step - loss: 0.5604 - accuracy: 0.7070\n",
            "Epoch 49/50\n",
            "77/77 [==============================] - 0s 2ms/step - loss: 0.5627 - accuracy: 0.7109\n",
            "Epoch 50/50\n",
            "77/77 [==============================] - 0s 2ms/step - loss: 0.5676 - accuracy: 0.6940\n"
          ]
        },
        {
          "output_type": "execute_result",
          "data": {
            "text/plain": [
              "<keras.callbacks.History at 0x7fcbda6e12d0>"
            ]
          },
          "metadata": {},
          "execution_count": 82
        }
      ]
    },
    {
      "cell_type": "code",
      "source": [
        "result=model.evaluate(X_test,y_test)"
      ],
      "metadata": {
        "colab": {
          "base_uri": "https://localhost:8080/"
        },
        "id": "7yNQ7o0kayX0",
        "outputId": "b02c0751-5f23-4427-803e-b620dc12876d"
      },
      "execution_count": null,
      "outputs": [
        {
          "output_type": "stream",
          "name": "stdout",
          "text": [
            "8/8 [==============================] - 0s 2ms/step - loss: 0.6043 - accuracy: 0.7143\n"
          ]
        }
      ]
    },
    {
      "cell_type": "code",
      "source": [
        "print('The accuracy score is:\\t {:0.3f}'.format(result[1]))"
      ],
      "metadata": {
        "colab": {
          "base_uri": "https://localhost:8080/"
        },
        "id": "gxqK95qba2ZK",
        "outputId": "7c6c8807-e55c-46ca-ab7a-cce91700d46d"
      },
      "execution_count": null,
      "outputs": [
        {
          "output_type": "stream",
          "name": "stdout",
          "text": [
            "The accuracy score is:\t 0.714\n"
          ]
        }
      ]
    }
  ]
}