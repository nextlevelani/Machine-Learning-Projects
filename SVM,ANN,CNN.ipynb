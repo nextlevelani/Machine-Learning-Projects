{
  "cells": [
    {
      "cell_type": "code",
      "execution_count": null,
      "metadata": {
        "id": "BJ9K4KEhOFOE"
      },
      "outputs": [],
      "source": [
        "\n",
        "import pandas as pd\n",
        "import numpy as np\n",
        "import seaborn as sns\n",
        "import matplotlib.pyplot as plt"
      ]
    },
    {
      "cell_type": "code",
      "execution_count": null,
      "metadata": {
        "id": "ggZ46vt8OU9C"
      },
      "outputs": [],
      "source": [
        "df=pd.read_csv(\"/content/weatherAUS.csv\")"
      ]
    },
    {
      "cell_type": "code",
      "execution_count": null,
      "metadata": {
        "id": "YJFrIZwvPgaW",
        "outputId": "d0d2fcd7-d1ad-43ea-9471-c4804666991d",
        "colab": {
          "base_uri": "https://localhost:8080/",
          "height": 473
        }
      },
      "outputs": [
        {
          "output_type": "execute_result",
          "data": {
            "text/plain": [
              "         Date Location  MinTemp  MaxTemp  Rainfall  Evaporation  Sunshine  \\\n",
              "0  01-12-2008   Albury     13.4     22.9       0.6          NaN       NaN   \n",
              "1  02-12-2008   Albury      7.4     25.1       0.0          NaN       NaN   \n",
              "2  03-12-2008   Albury     12.9     25.7       0.0          NaN       NaN   \n",
              "3  04-12-2008   Albury      9.2     28.0       0.0          NaN       NaN   \n",
              "4  05-12-2008   Albury     17.5     32.3       1.0          NaN       NaN   \n",
              "\n",
              "  WindGustDir  WindGustSpeed WindDir9am  ... Humidity9am  Humidity3pm  \\\n",
              "0           W           44.0          W  ...        71.0         22.0   \n",
              "1         WNW           44.0        NNW  ...        44.0         25.0   \n",
              "2         WSW           46.0          W  ...        38.0         30.0   \n",
              "3          NE           24.0         SE  ...        45.0         16.0   \n",
              "4           W           41.0        ENE  ...        82.0         33.0   \n",
              "\n",
              "   Pressure9am  Pressure3pm  Cloud9am  Cloud3pm  Temp9am  Temp3pm  RainToday  \\\n",
              "0       1007.7       1007.1       8.0       NaN     16.9     21.8         No   \n",
              "1       1010.6       1007.8       NaN       NaN     17.2     24.3         No   \n",
              "2       1007.6       1008.7       NaN       2.0     21.0     23.2         No   \n",
              "3       1017.6       1012.8       NaN       NaN     18.1     26.5         No   \n",
              "4       1010.8       1006.0       7.0       8.0     17.8     29.7         No   \n",
              "\n",
              "   RainTomorrow  \n",
              "0            No  \n",
              "1            No  \n",
              "2            No  \n",
              "3            No  \n",
              "4            No  \n",
              "\n",
              "[5 rows x 23 columns]"
            ],
            "text/html": [
              "\n",
              "  <div id=\"df-74d810a7-dd9c-4043-8c67-6225b757c8f9\">\n",
              "    <div class=\"colab-df-container\">\n",
              "      <div>\n",
              "<style scoped>\n",
              "    .dataframe tbody tr th:only-of-type {\n",
              "        vertical-align: middle;\n",
              "    }\n",
              "\n",
              "    .dataframe tbody tr th {\n",
              "        vertical-align: top;\n",
              "    }\n",
              "\n",
              "    .dataframe thead th {\n",
              "        text-align: right;\n",
              "    }\n",
              "</style>\n",
              "<table border=\"1\" class=\"dataframe\">\n",
              "  <thead>\n",
              "    <tr style=\"text-align: right;\">\n",
              "      <th></th>\n",
              "      <th>Date</th>\n",
              "      <th>Location</th>\n",
              "      <th>MinTemp</th>\n",
              "      <th>MaxTemp</th>\n",
              "      <th>Rainfall</th>\n",
              "      <th>Evaporation</th>\n",
              "      <th>Sunshine</th>\n",
              "      <th>WindGustDir</th>\n",
              "      <th>WindGustSpeed</th>\n",
              "      <th>WindDir9am</th>\n",
              "      <th>...</th>\n",
              "      <th>Humidity9am</th>\n",
              "      <th>Humidity3pm</th>\n",
              "      <th>Pressure9am</th>\n",
              "      <th>Pressure3pm</th>\n",
              "      <th>Cloud9am</th>\n",
              "      <th>Cloud3pm</th>\n",
              "      <th>Temp9am</th>\n",
              "      <th>Temp3pm</th>\n",
              "      <th>RainToday</th>\n",
              "      <th>RainTomorrow</th>\n",
              "    </tr>\n",
              "  </thead>\n",
              "  <tbody>\n",
              "    <tr>\n",
              "      <th>0</th>\n",
              "      <td>01-12-2008</td>\n",
              "      <td>Albury</td>\n",
              "      <td>13.4</td>\n",
              "      <td>22.9</td>\n",
              "      <td>0.6</td>\n",
              "      <td>NaN</td>\n",
              "      <td>NaN</td>\n",
              "      <td>W</td>\n",
              "      <td>44.0</td>\n",
              "      <td>W</td>\n",
              "      <td>...</td>\n",
              "      <td>71.0</td>\n",
              "      <td>22.0</td>\n",
              "      <td>1007.7</td>\n",
              "      <td>1007.1</td>\n",
              "      <td>8.0</td>\n",
              "      <td>NaN</td>\n",
              "      <td>16.9</td>\n",
              "      <td>21.8</td>\n",
              "      <td>No</td>\n",
              "      <td>No</td>\n",
              "    </tr>\n",
              "    <tr>\n",
              "      <th>1</th>\n",
              "      <td>02-12-2008</td>\n",
              "      <td>Albury</td>\n",
              "      <td>7.4</td>\n",
              "      <td>25.1</td>\n",
              "      <td>0.0</td>\n",
              "      <td>NaN</td>\n",
              "      <td>NaN</td>\n",
              "      <td>WNW</td>\n",
              "      <td>44.0</td>\n",
              "      <td>NNW</td>\n",
              "      <td>...</td>\n",
              "      <td>44.0</td>\n",
              "      <td>25.0</td>\n",
              "      <td>1010.6</td>\n",
              "      <td>1007.8</td>\n",
              "      <td>NaN</td>\n",
              "      <td>NaN</td>\n",
              "      <td>17.2</td>\n",
              "      <td>24.3</td>\n",
              "      <td>No</td>\n",
              "      <td>No</td>\n",
              "    </tr>\n",
              "    <tr>\n",
              "      <th>2</th>\n",
              "      <td>03-12-2008</td>\n",
              "      <td>Albury</td>\n",
              "      <td>12.9</td>\n",
              "      <td>25.7</td>\n",
              "      <td>0.0</td>\n",
              "      <td>NaN</td>\n",
              "      <td>NaN</td>\n",
              "      <td>WSW</td>\n",
              "      <td>46.0</td>\n",
              "      <td>W</td>\n",
              "      <td>...</td>\n",
              "      <td>38.0</td>\n",
              "      <td>30.0</td>\n",
              "      <td>1007.6</td>\n",
              "      <td>1008.7</td>\n",
              "      <td>NaN</td>\n",
              "      <td>2.0</td>\n",
              "      <td>21.0</td>\n",
              "      <td>23.2</td>\n",
              "      <td>No</td>\n",
              "      <td>No</td>\n",
              "    </tr>\n",
              "    <tr>\n",
              "      <th>3</th>\n",
              "      <td>04-12-2008</td>\n",
              "      <td>Albury</td>\n",
              "      <td>9.2</td>\n",
              "      <td>28.0</td>\n",
              "      <td>0.0</td>\n",
              "      <td>NaN</td>\n",
              "      <td>NaN</td>\n",
              "      <td>NE</td>\n",
              "      <td>24.0</td>\n",
              "      <td>SE</td>\n",
              "      <td>...</td>\n",
              "      <td>45.0</td>\n",
              "      <td>16.0</td>\n",
              "      <td>1017.6</td>\n",
              "      <td>1012.8</td>\n",
              "      <td>NaN</td>\n",
              "      <td>NaN</td>\n",
              "      <td>18.1</td>\n",
              "      <td>26.5</td>\n",
              "      <td>No</td>\n",
              "      <td>No</td>\n",
              "    </tr>\n",
              "    <tr>\n",
              "      <th>4</th>\n",
              "      <td>05-12-2008</td>\n",
              "      <td>Albury</td>\n",
              "      <td>17.5</td>\n",
              "      <td>32.3</td>\n",
              "      <td>1.0</td>\n",
              "      <td>NaN</td>\n",
              "      <td>NaN</td>\n",
              "      <td>W</td>\n",
              "      <td>41.0</td>\n",
              "      <td>ENE</td>\n",
              "      <td>...</td>\n",
              "      <td>82.0</td>\n",
              "      <td>33.0</td>\n",
              "      <td>1010.8</td>\n",
              "      <td>1006.0</td>\n",
              "      <td>7.0</td>\n",
              "      <td>8.0</td>\n",
              "      <td>17.8</td>\n",
              "      <td>29.7</td>\n",
              "      <td>No</td>\n",
              "      <td>No</td>\n",
              "    </tr>\n",
              "  </tbody>\n",
              "</table>\n",
              "<p>5 rows × 23 columns</p>\n",
              "</div>\n",
              "      <button class=\"colab-df-convert\" onclick=\"convertToInteractive('df-74d810a7-dd9c-4043-8c67-6225b757c8f9')\"\n",
              "              title=\"Convert this dataframe to an interactive table.\"\n",
              "              style=\"display:none;\">\n",
              "        \n",
              "  <svg xmlns=\"http://www.w3.org/2000/svg\" height=\"24px\"viewBox=\"0 0 24 24\"\n",
              "       width=\"24px\">\n",
              "    <path d=\"M0 0h24v24H0V0z\" fill=\"none\"/>\n",
              "    <path d=\"M18.56 5.44l.94 2.06.94-2.06 2.06-.94-2.06-.94-.94-2.06-.94 2.06-2.06.94zm-11 1L8.5 8.5l.94-2.06 2.06-.94-2.06-.94L8.5 2.5l-.94 2.06-2.06.94zm10 10l.94 2.06.94-2.06 2.06-.94-2.06-.94-.94-2.06-.94 2.06-2.06.94z\"/><path d=\"M17.41 7.96l-1.37-1.37c-.4-.4-.92-.59-1.43-.59-.52 0-1.04.2-1.43.59L10.3 9.45l-7.72 7.72c-.78.78-.78 2.05 0 2.83L4 21.41c.39.39.9.59 1.41.59.51 0 1.02-.2 1.41-.59l7.78-7.78 2.81-2.81c.8-.78.8-2.07 0-2.86zM5.41 20L4 18.59l7.72-7.72 1.47 1.35L5.41 20z\"/>\n",
              "  </svg>\n",
              "      </button>\n",
              "      \n",
              "  <style>\n",
              "    .colab-df-container {\n",
              "      display:flex;\n",
              "      flex-wrap:wrap;\n",
              "      gap: 12px;\n",
              "    }\n",
              "\n",
              "    .colab-df-convert {\n",
              "      background-color: #E8F0FE;\n",
              "      border: none;\n",
              "      border-radius: 50%;\n",
              "      cursor: pointer;\n",
              "      display: none;\n",
              "      fill: #1967D2;\n",
              "      height: 32px;\n",
              "      padding: 0 0 0 0;\n",
              "      width: 32px;\n",
              "    }\n",
              "\n",
              "    .colab-df-convert:hover {\n",
              "      background-color: #E2EBFA;\n",
              "      box-shadow: 0px 1px 2px rgba(60, 64, 67, 0.3), 0px 1px 3px 1px rgba(60, 64, 67, 0.15);\n",
              "      fill: #174EA6;\n",
              "    }\n",
              "\n",
              "    [theme=dark] .colab-df-convert {\n",
              "      background-color: #3B4455;\n",
              "      fill: #D2E3FC;\n",
              "    }\n",
              "\n",
              "    [theme=dark] .colab-df-convert:hover {\n",
              "      background-color: #434B5C;\n",
              "      box-shadow: 0px 1px 3px 1px rgba(0, 0, 0, 0.15);\n",
              "      filter: drop-shadow(0px 1px 2px rgba(0, 0, 0, 0.3));\n",
              "      fill: #FFFFFF;\n",
              "    }\n",
              "  </style>\n",
              "\n",
              "      <script>\n",
              "        const buttonEl =\n",
              "          document.querySelector('#df-74d810a7-dd9c-4043-8c67-6225b757c8f9 button.colab-df-convert');\n",
              "        buttonEl.style.display =\n",
              "          google.colab.kernel.accessAllowed ? 'block' : 'none';\n",
              "\n",
              "        async function convertToInteractive(key) {\n",
              "          const element = document.querySelector('#df-74d810a7-dd9c-4043-8c67-6225b757c8f9');\n",
              "          const dataTable =\n",
              "            await google.colab.kernel.invokeFunction('convertToInteractive',\n",
              "                                                     [key], {});\n",
              "          if (!dataTable) return;\n",
              "\n",
              "          const docLinkHtml = 'Like what you see? Visit the ' +\n",
              "            '<a target=\"_blank\" href=https://colab.research.google.com/notebooks/data_table.ipynb>data table notebook</a>'\n",
              "            + ' to learn more about interactive tables.';\n",
              "          element.innerHTML = '';\n",
              "          dataTable['output_type'] = 'display_data';\n",
              "          await google.colab.output.renderOutput(dataTable, element);\n",
              "          const docLink = document.createElement('div');\n",
              "          docLink.innerHTML = docLinkHtml;\n",
              "          element.appendChild(docLink);\n",
              "        }\n",
              "      </script>\n",
              "    </div>\n",
              "  </div>\n",
              "  "
            ]
          },
          "metadata": {},
          "execution_count": 3
        }
      ],
      "source": [
        "df.head()"
      ]
    },
    {
      "cell_type": "code",
      "execution_count": null,
      "metadata": {
        "id": "CodPhrwkPsO_",
        "outputId": "e016e81f-7e6c-4432-fffc-dae5992ad131",
        "colab": {
          "base_uri": "https://localhost:8080/",
          "height": 364
        }
      },
      "outputs": [
        {
          "output_type": "execute_result",
          "data": {
            "text/plain": [
              "             MinTemp        MaxTemp       Rainfall   Evaporation  \\\n",
              "count  143975.000000  144199.000000  142199.000000  82670.000000   \n",
              "mean       12.194034      23.221348       2.360918      5.468232   \n",
              "std         6.398495       7.119049       8.478060      4.193704   \n",
              "min        -8.500000      -4.800000       0.000000      0.000000   \n",
              "25%         7.600000      17.900000       0.000000      2.600000   \n",
              "50%        12.000000      22.600000       0.000000      4.800000   \n",
              "75%        16.900000      28.200000       0.800000      7.400000   \n",
              "max        33.900000      48.100000     371.000000    145.000000   \n",
              "\n",
              "           Sunshine  WindGustSpeed   WindSpeed9am   WindSpeed3pm  \\\n",
              "count  75625.000000  135197.000000  143693.000000  142398.000000   \n",
              "mean       7.611178      40.035230      14.043426      18.662657   \n",
              "std        3.785483      13.607062       8.915375       8.809800   \n",
              "min        0.000000       6.000000       0.000000       0.000000   \n",
              "25%        4.800000      31.000000       7.000000      13.000000   \n",
              "50%        8.400000      39.000000      13.000000      19.000000   \n",
              "75%       10.600000      48.000000      19.000000      24.000000   \n",
              "max       14.500000     135.000000     130.000000      87.000000   \n",
              "\n",
              "         Humidity9am    Humidity3pm   Pressure9am    Pressure3pm  \\\n",
              "count  142806.000000  140953.000000  130395.00000  130432.000000   \n",
              "mean       68.880831      51.539116    1017.64994    1015.255889   \n",
              "std        19.029164      20.795902       7.10653       7.037414   \n",
              "min         0.000000       0.000000     980.50000     977.100000   \n",
              "25%        57.000000      37.000000    1012.90000    1010.400000   \n",
              "50%        70.000000      52.000000    1017.60000    1015.200000   \n",
              "75%        83.000000      66.000000    1022.40000    1020.000000   \n",
              "max       100.000000     100.000000    1041.00000    1039.600000   \n",
              "\n",
              "           Cloud9am      Cloud3pm        Temp9am       Temp3pm  \n",
              "count  89572.000000  86102.000000  143693.000000  141851.00000  \n",
              "mean       4.447461      4.509930      16.990631      21.68339  \n",
              "std        2.887159      2.720357       6.488753       6.93665  \n",
              "min        0.000000      0.000000      -7.200000      -5.40000  \n",
              "25%        1.000000      2.000000      12.300000      16.60000  \n",
              "50%        5.000000      5.000000      16.700000      21.10000  \n",
              "75%        7.000000      7.000000      21.600000      26.40000  \n",
              "max        9.000000      9.000000      40.200000      46.70000  "
            ],
            "text/html": [
              "\n",
              "  <div id=\"df-aff144ad-7caa-4dd3-8846-d74af95366da\">\n",
              "    <div class=\"colab-df-container\">\n",
              "      <div>\n",
              "<style scoped>\n",
              "    .dataframe tbody tr th:only-of-type {\n",
              "        vertical-align: middle;\n",
              "    }\n",
              "\n",
              "    .dataframe tbody tr th {\n",
              "        vertical-align: top;\n",
              "    }\n",
              "\n",
              "    .dataframe thead th {\n",
              "        text-align: right;\n",
              "    }\n",
              "</style>\n",
              "<table border=\"1\" class=\"dataframe\">\n",
              "  <thead>\n",
              "    <tr style=\"text-align: right;\">\n",
              "      <th></th>\n",
              "      <th>MinTemp</th>\n",
              "      <th>MaxTemp</th>\n",
              "      <th>Rainfall</th>\n",
              "      <th>Evaporation</th>\n",
              "      <th>Sunshine</th>\n",
              "      <th>WindGustSpeed</th>\n",
              "      <th>WindSpeed9am</th>\n",
              "      <th>WindSpeed3pm</th>\n",
              "      <th>Humidity9am</th>\n",
              "      <th>Humidity3pm</th>\n",
              "      <th>Pressure9am</th>\n",
              "      <th>Pressure3pm</th>\n",
              "      <th>Cloud9am</th>\n",
              "      <th>Cloud3pm</th>\n",
              "      <th>Temp9am</th>\n",
              "      <th>Temp3pm</th>\n",
              "    </tr>\n",
              "  </thead>\n",
              "  <tbody>\n",
              "    <tr>\n",
              "      <th>count</th>\n",
              "      <td>143975.000000</td>\n",
              "      <td>144199.000000</td>\n",
              "      <td>142199.000000</td>\n",
              "      <td>82670.000000</td>\n",
              "      <td>75625.000000</td>\n",
              "      <td>135197.000000</td>\n",
              "      <td>143693.000000</td>\n",
              "      <td>142398.000000</td>\n",
              "      <td>142806.000000</td>\n",
              "      <td>140953.000000</td>\n",
              "      <td>130395.00000</td>\n",
              "      <td>130432.000000</td>\n",
              "      <td>89572.000000</td>\n",
              "      <td>86102.000000</td>\n",
              "      <td>143693.000000</td>\n",
              "      <td>141851.00000</td>\n",
              "    </tr>\n",
              "    <tr>\n",
              "      <th>mean</th>\n",
              "      <td>12.194034</td>\n",
              "      <td>23.221348</td>\n",
              "      <td>2.360918</td>\n",
              "      <td>5.468232</td>\n",
              "      <td>7.611178</td>\n",
              "      <td>40.035230</td>\n",
              "      <td>14.043426</td>\n",
              "      <td>18.662657</td>\n",
              "      <td>68.880831</td>\n",
              "      <td>51.539116</td>\n",
              "      <td>1017.64994</td>\n",
              "      <td>1015.255889</td>\n",
              "      <td>4.447461</td>\n",
              "      <td>4.509930</td>\n",
              "      <td>16.990631</td>\n",
              "      <td>21.68339</td>\n",
              "    </tr>\n",
              "    <tr>\n",
              "      <th>std</th>\n",
              "      <td>6.398495</td>\n",
              "      <td>7.119049</td>\n",
              "      <td>8.478060</td>\n",
              "      <td>4.193704</td>\n",
              "      <td>3.785483</td>\n",
              "      <td>13.607062</td>\n",
              "      <td>8.915375</td>\n",
              "      <td>8.809800</td>\n",
              "      <td>19.029164</td>\n",
              "      <td>20.795902</td>\n",
              "      <td>7.10653</td>\n",
              "      <td>7.037414</td>\n",
              "      <td>2.887159</td>\n",
              "      <td>2.720357</td>\n",
              "      <td>6.488753</td>\n",
              "      <td>6.93665</td>\n",
              "    </tr>\n",
              "    <tr>\n",
              "      <th>min</th>\n",
              "      <td>-8.500000</td>\n",
              "      <td>-4.800000</td>\n",
              "      <td>0.000000</td>\n",
              "      <td>0.000000</td>\n",
              "      <td>0.000000</td>\n",
              "      <td>6.000000</td>\n",
              "      <td>0.000000</td>\n",
              "      <td>0.000000</td>\n",
              "      <td>0.000000</td>\n",
              "      <td>0.000000</td>\n",
              "      <td>980.50000</td>\n",
              "      <td>977.100000</td>\n",
              "      <td>0.000000</td>\n",
              "      <td>0.000000</td>\n",
              "      <td>-7.200000</td>\n",
              "      <td>-5.40000</td>\n",
              "    </tr>\n",
              "    <tr>\n",
              "      <th>25%</th>\n",
              "      <td>7.600000</td>\n",
              "      <td>17.900000</td>\n",
              "      <td>0.000000</td>\n",
              "      <td>2.600000</td>\n",
              "      <td>4.800000</td>\n",
              "      <td>31.000000</td>\n",
              "      <td>7.000000</td>\n",
              "      <td>13.000000</td>\n",
              "      <td>57.000000</td>\n",
              "      <td>37.000000</td>\n",
              "      <td>1012.90000</td>\n",
              "      <td>1010.400000</td>\n",
              "      <td>1.000000</td>\n",
              "      <td>2.000000</td>\n",
              "      <td>12.300000</td>\n",
              "      <td>16.60000</td>\n",
              "    </tr>\n",
              "    <tr>\n",
              "      <th>50%</th>\n",
              "      <td>12.000000</td>\n",
              "      <td>22.600000</td>\n",
              "      <td>0.000000</td>\n",
              "      <td>4.800000</td>\n",
              "      <td>8.400000</td>\n",
              "      <td>39.000000</td>\n",
              "      <td>13.000000</td>\n",
              "      <td>19.000000</td>\n",
              "      <td>70.000000</td>\n",
              "      <td>52.000000</td>\n",
              "      <td>1017.60000</td>\n",
              "      <td>1015.200000</td>\n",
              "      <td>5.000000</td>\n",
              "      <td>5.000000</td>\n",
              "      <td>16.700000</td>\n",
              "      <td>21.10000</td>\n",
              "    </tr>\n",
              "    <tr>\n",
              "      <th>75%</th>\n",
              "      <td>16.900000</td>\n",
              "      <td>28.200000</td>\n",
              "      <td>0.800000</td>\n",
              "      <td>7.400000</td>\n",
              "      <td>10.600000</td>\n",
              "      <td>48.000000</td>\n",
              "      <td>19.000000</td>\n",
              "      <td>24.000000</td>\n",
              "      <td>83.000000</td>\n",
              "      <td>66.000000</td>\n",
              "      <td>1022.40000</td>\n",
              "      <td>1020.000000</td>\n",
              "      <td>7.000000</td>\n",
              "      <td>7.000000</td>\n",
              "      <td>21.600000</td>\n",
              "      <td>26.40000</td>\n",
              "    </tr>\n",
              "    <tr>\n",
              "      <th>max</th>\n",
              "      <td>33.900000</td>\n",
              "      <td>48.100000</td>\n",
              "      <td>371.000000</td>\n",
              "      <td>145.000000</td>\n",
              "      <td>14.500000</td>\n",
              "      <td>135.000000</td>\n",
              "      <td>130.000000</td>\n",
              "      <td>87.000000</td>\n",
              "      <td>100.000000</td>\n",
              "      <td>100.000000</td>\n",
              "      <td>1041.00000</td>\n",
              "      <td>1039.600000</td>\n",
              "      <td>9.000000</td>\n",
              "      <td>9.000000</td>\n",
              "      <td>40.200000</td>\n",
              "      <td>46.70000</td>\n",
              "    </tr>\n",
              "  </tbody>\n",
              "</table>\n",
              "</div>\n",
              "      <button class=\"colab-df-convert\" onclick=\"convertToInteractive('df-aff144ad-7caa-4dd3-8846-d74af95366da')\"\n",
              "              title=\"Convert this dataframe to an interactive table.\"\n",
              "              style=\"display:none;\">\n",
              "        \n",
              "  <svg xmlns=\"http://www.w3.org/2000/svg\" height=\"24px\"viewBox=\"0 0 24 24\"\n",
              "       width=\"24px\">\n",
              "    <path d=\"M0 0h24v24H0V0z\" fill=\"none\"/>\n",
              "    <path d=\"M18.56 5.44l.94 2.06.94-2.06 2.06-.94-2.06-.94-.94-2.06-.94 2.06-2.06.94zm-11 1L8.5 8.5l.94-2.06 2.06-.94-2.06-.94L8.5 2.5l-.94 2.06-2.06.94zm10 10l.94 2.06.94-2.06 2.06-.94-2.06-.94-.94-2.06-.94 2.06-2.06.94z\"/><path d=\"M17.41 7.96l-1.37-1.37c-.4-.4-.92-.59-1.43-.59-.52 0-1.04.2-1.43.59L10.3 9.45l-7.72 7.72c-.78.78-.78 2.05 0 2.83L4 21.41c.39.39.9.59 1.41.59.51 0 1.02-.2 1.41-.59l7.78-7.78 2.81-2.81c.8-.78.8-2.07 0-2.86zM5.41 20L4 18.59l7.72-7.72 1.47 1.35L5.41 20z\"/>\n",
              "  </svg>\n",
              "      </button>\n",
              "      \n",
              "  <style>\n",
              "    .colab-df-container {\n",
              "      display:flex;\n",
              "      flex-wrap:wrap;\n",
              "      gap: 12px;\n",
              "    }\n",
              "\n",
              "    .colab-df-convert {\n",
              "      background-color: #E8F0FE;\n",
              "      border: none;\n",
              "      border-radius: 50%;\n",
              "      cursor: pointer;\n",
              "      display: none;\n",
              "      fill: #1967D2;\n",
              "      height: 32px;\n",
              "      padding: 0 0 0 0;\n",
              "      width: 32px;\n",
              "    }\n",
              "\n",
              "    .colab-df-convert:hover {\n",
              "      background-color: #E2EBFA;\n",
              "      box-shadow: 0px 1px 2px rgba(60, 64, 67, 0.3), 0px 1px 3px 1px rgba(60, 64, 67, 0.15);\n",
              "      fill: #174EA6;\n",
              "    }\n",
              "\n",
              "    [theme=dark] .colab-df-convert {\n",
              "      background-color: #3B4455;\n",
              "      fill: #D2E3FC;\n",
              "    }\n",
              "\n",
              "    [theme=dark] .colab-df-convert:hover {\n",
              "      background-color: #434B5C;\n",
              "      box-shadow: 0px 1px 3px 1px rgba(0, 0, 0, 0.15);\n",
              "      filter: drop-shadow(0px 1px 2px rgba(0, 0, 0, 0.3));\n",
              "      fill: #FFFFFF;\n",
              "    }\n",
              "  </style>\n",
              "\n",
              "      <script>\n",
              "        const buttonEl =\n",
              "          document.querySelector('#df-aff144ad-7caa-4dd3-8846-d74af95366da button.colab-df-convert');\n",
              "        buttonEl.style.display =\n",
              "          google.colab.kernel.accessAllowed ? 'block' : 'none';\n",
              "\n",
              "        async function convertToInteractive(key) {\n",
              "          const element = document.querySelector('#df-aff144ad-7caa-4dd3-8846-d74af95366da');\n",
              "          const dataTable =\n",
              "            await google.colab.kernel.invokeFunction('convertToInteractive',\n",
              "                                                     [key], {});\n",
              "          if (!dataTable) return;\n",
              "\n",
              "          const docLinkHtml = 'Like what you see? Visit the ' +\n",
              "            '<a target=\"_blank\" href=https://colab.research.google.com/notebooks/data_table.ipynb>data table notebook</a>'\n",
              "            + ' to learn more about interactive tables.';\n",
              "          element.innerHTML = '';\n",
              "          dataTable['output_type'] = 'display_data';\n",
              "          await google.colab.output.renderOutput(dataTable, element);\n",
              "          const docLink = document.createElement('div');\n",
              "          docLink.innerHTML = docLinkHtml;\n",
              "          element.appendChild(docLink);\n",
              "        }\n",
              "      </script>\n",
              "    </div>\n",
              "  </div>\n",
              "  "
            ]
          },
          "metadata": {},
          "execution_count": 4
        }
      ],
      "source": [
        "#STATISTICAL SUMMARY\n",
        "df.describe()"
      ]
    },
    {
      "cell_type": "code",
      "execution_count": null,
      "metadata": {
        "id": "oo_qT9iJP5Jc",
        "outputId": "9359dbe6-46e9-4a91-fd67-0a39b28a66eb",
        "colab": {
          "base_uri": "https://localhost:8080/",
          "height": 551
        }
      },
      "outputs": [
        {
          "output_type": "execute_result",
          "data": {
            "text/plain": [
              "                  count         mean        std    min     25%     50%  \\\n",
              "MinTemp        143975.0    12.194034   6.398495   -8.5     7.6    12.0   \n",
              "MaxTemp        144199.0    23.221348   7.119049   -4.8    17.9    22.6   \n",
              "Rainfall       142199.0     2.360918   8.478060    0.0     0.0     0.0   \n",
              "Evaporation     82670.0     5.468232   4.193704    0.0     2.6     4.8   \n",
              "Sunshine        75625.0     7.611178   3.785483    0.0     4.8     8.4   \n",
              "WindGustSpeed  135197.0    40.035230  13.607062    6.0    31.0    39.0   \n",
              "WindSpeed9am   143693.0    14.043426   8.915375    0.0     7.0    13.0   \n",
              "WindSpeed3pm   142398.0    18.662657   8.809800    0.0    13.0    19.0   \n",
              "Humidity9am    142806.0    68.880831  19.029164    0.0    57.0    70.0   \n",
              "Humidity3pm    140953.0    51.539116  20.795902    0.0    37.0    52.0   \n",
              "Pressure9am    130395.0  1017.649940   7.106530  980.5  1012.9  1017.6   \n",
              "Pressure3pm    130432.0  1015.255889   7.037414  977.1  1010.4  1015.2   \n",
              "Cloud9am        89572.0     4.447461   2.887159    0.0     1.0     5.0   \n",
              "Cloud3pm        86102.0     4.509930   2.720357    0.0     2.0     5.0   \n",
              "Temp9am        143693.0    16.990631   6.488753   -7.2    12.3    16.7   \n",
              "Temp3pm        141851.0    21.683390   6.936650   -5.4    16.6    21.1   \n",
              "\n",
              "                  75%     max  \n",
              "MinTemp          16.9    33.9  \n",
              "MaxTemp          28.2    48.1  \n",
              "Rainfall          0.8   371.0  \n",
              "Evaporation       7.4   145.0  \n",
              "Sunshine         10.6    14.5  \n",
              "WindGustSpeed    48.0   135.0  \n",
              "WindSpeed9am     19.0   130.0  \n",
              "WindSpeed3pm     24.0    87.0  \n",
              "Humidity9am      83.0   100.0  \n",
              "Humidity3pm      66.0   100.0  \n",
              "Pressure9am    1022.4  1041.0  \n",
              "Pressure3pm    1020.0  1039.6  \n",
              "Cloud9am          7.0     9.0  \n",
              "Cloud3pm          7.0     9.0  \n",
              "Temp9am          21.6    40.2  \n",
              "Temp3pm          26.4    46.7  "
            ],
            "text/html": [
              "\n",
              "  <div id=\"df-dd8b1a22-7527-4bf9-aa11-50cfefb95be1\">\n",
              "    <div class=\"colab-df-container\">\n",
              "      <div>\n",
              "<style scoped>\n",
              "    .dataframe tbody tr th:only-of-type {\n",
              "        vertical-align: middle;\n",
              "    }\n",
              "\n",
              "    .dataframe tbody tr th {\n",
              "        vertical-align: top;\n",
              "    }\n",
              "\n",
              "    .dataframe thead th {\n",
              "        text-align: right;\n",
              "    }\n",
              "</style>\n",
              "<table border=\"1\" class=\"dataframe\">\n",
              "  <thead>\n",
              "    <tr style=\"text-align: right;\">\n",
              "      <th></th>\n",
              "      <th>count</th>\n",
              "      <th>mean</th>\n",
              "      <th>std</th>\n",
              "      <th>min</th>\n",
              "      <th>25%</th>\n",
              "      <th>50%</th>\n",
              "      <th>75%</th>\n",
              "      <th>max</th>\n",
              "    </tr>\n",
              "  </thead>\n",
              "  <tbody>\n",
              "    <tr>\n",
              "      <th>MinTemp</th>\n",
              "      <td>143975.0</td>\n",
              "      <td>12.194034</td>\n",
              "      <td>6.398495</td>\n",
              "      <td>-8.5</td>\n",
              "      <td>7.6</td>\n",
              "      <td>12.0</td>\n",
              "      <td>16.9</td>\n",
              "      <td>33.9</td>\n",
              "    </tr>\n",
              "    <tr>\n",
              "      <th>MaxTemp</th>\n",
              "      <td>144199.0</td>\n",
              "      <td>23.221348</td>\n",
              "      <td>7.119049</td>\n",
              "      <td>-4.8</td>\n",
              "      <td>17.9</td>\n",
              "      <td>22.6</td>\n",
              "      <td>28.2</td>\n",
              "      <td>48.1</td>\n",
              "    </tr>\n",
              "    <tr>\n",
              "      <th>Rainfall</th>\n",
              "      <td>142199.0</td>\n",
              "      <td>2.360918</td>\n",
              "      <td>8.478060</td>\n",
              "      <td>0.0</td>\n",
              "      <td>0.0</td>\n",
              "      <td>0.0</td>\n",
              "      <td>0.8</td>\n",
              "      <td>371.0</td>\n",
              "    </tr>\n",
              "    <tr>\n",
              "      <th>Evaporation</th>\n",
              "      <td>82670.0</td>\n",
              "      <td>5.468232</td>\n",
              "      <td>4.193704</td>\n",
              "      <td>0.0</td>\n",
              "      <td>2.6</td>\n",
              "      <td>4.8</td>\n",
              "      <td>7.4</td>\n",
              "      <td>145.0</td>\n",
              "    </tr>\n",
              "    <tr>\n",
              "      <th>Sunshine</th>\n",
              "      <td>75625.0</td>\n",
              "      <td>7.611178</td>\n",
              "      <td>3.785483</td>\n",
              "      <td>0.0</td>\n",
              "      <td>4.8</td>\n",
              "      <td>8.4</td>\n",
              "      <td>10.6</td>\n",
              "      <td>14.5</td>\n",
              "    </tr>\n",
              "    <tr>\n",
              "      <th>WindGustSpeed</th>\n",
              "      <td>135197.0</td>\n",
              "      <td>40.035230</td>\n",
              "      <td>13.607062</td>\n",
              "      <td>6.0</td>\n",
              "      <td>31.0</td>\n",
              "      <td>39.0</td>\n",
              "      <td>48.0</td>\n",
              "      <td>135.0</td>\n",
              "    </tr>\n",
              "    <tr>\n",
              "      <th>WindSpeed9am</th>\n",
              "      <td>143693.0</td>\n",
              "      <td>14.043426</td>\n",
              "      <td>8.915375</td>\n",
              "      <td>0.0</td>\n",
              "      <td>7.0</td>\n",
              "      <td>13.0</td>\n",
              "      <td>19.0</td>\n",
              "      <td>130.0</td>\n",
              "    </tr>\n",
              "    <tr>\n",
              "      <th>WindSpeed3pm</th>\n",
              "      <td>142398.0</td>\n",
              "      <td>18.662657</td>\n",
              "      <td>8.809800</td>\n",
              "      <td>0.0</td>\n",
              "      <td>13.0</td>\n",
              "      <td>19.0</td>\n",
              "      <td>24.0</td>\n",
              "      <td>87.0</td>\n",
              "    </tr>\n",
              "    <tr>\n",
              "      <th>Humidity9am</th>\n",
              "      <td>142806.0</td>\n",
              "      <td>68.880831</td>\n",
              "      <td>19.029164</td>\n",
              "      <td>0.0</td>\n",
              "      <td>57.0</td>\n",
              "      <td>70.0</td>\n",
              "      <td>83.0</td>\n",
              "      <td>100.0</td>\n",
              "    </tr>\n",
              "    <tr>\n",
              "      <th>Humidity3pm</th>\n",
              "      <td>140953.0</td>\n",
              "      <td>51.539116</td>\n",
              "      <td>20.795902</td>\n",
              "      <td>0.0</td>\n",
              "      <td>37.0</td>\n",
              "      <td>52.0</td>\n",
              "      <td>66.0</td>\n",
              "      <td>100.0</td>\n",
              "    </tr>\n",
              "    <tr>\n",
              "      <th>Pressure9am</th>\n",
              "      <td>130395.0</td>\n",
              "      <td>1017.649940</td>\n",
              "      <td>7.106530</td>\n",
              "      <td>980.5</td>\n",
              "      <td>1012.9</td>\n",
              "      <td>1017.6</td>\n",
              "      <td>1022.4</td>\n",
              "      <td>1041.0</td>\n",
              "    </tr>\n",
              "    <tr>\n",
              "      <th>Pressure3pm</th>\n",
              "      <td>130432.0</td>\n",
              "      <td>1015.255889</td>\n",
              "      <td>7.037414</td>\n",
              "      <td>977.1</td>\n",
              "      <td>1010.4</td>\n",
              "      <td>1015.2</td>\n",
              "      <td>1020.0</td>\n",
              "      <td>1039.6</td>\n",
              "    </tr>\n",
              "    <tr>\n",
              "      <th>Cloud9am</th>\n",
              "      <td>89572.0</td>\n",
              "      <td>4.447461</td>\n",
              "      <td>2.887159</td>\n",
              "      <td>0.0</td>\n",
              "      <td>1.0</td>\n",
              "      <td>5.0</td>\n",
              "      <td>7.0</td>\n",
              "      <td>9.0</td>\n",
              "    </tr>\n",
              "    <tr>\n",
              "      <th>Cloud3pm</th>\n",
              "      <td>86102.0</td>\n",
              "      <td>4.509930</td>\n",
              "      <td>2.720357</td>\n",
              "      <td>0.0</td>\n",
              "      <td>2.0</td>\n",
              "      <td>5.0</td>\n",
              "      <td>7.0</td>\n",
              "      <td>9.0</td>\n",
              "    </tr>\n",
              "    <tr>\n",
              "      <th>Temp9am</th>\n",
              "      <td>143693.0</td>\n",
              "      <td>16.990631</td>\n",
              "      <td>6.488753</td>\n",
              "      <td>-7.2</td>\n",
              "      <td>12.3</td>\n",
              "      <td>16.7</td>\n",
              "      <td>21.6</td>\n",
              "      <td>40.2</td>\n",
              "    </tr>\n",
              "    <tr>\n",
              "      <th>Temp3pm</th>\n",
              "      <td>141851.0</td>\n",
              "      <td>21.683390</td>\n",
              "      <td>6.936650</td>\n",
              "      <td>-5.4</td>\n",
              "      <td>16.6</td>\n",
              "      <td>21.1</td>\n",
              "      <td>26.4</td>\n",
              "      <td>46.7</td>\n",
              "    </tr>\n",
              "  </tbody>\n",
              "</table>\n",
              "</div>\n",
              "      <button class=\"colab-df-convert\" onclick=\"convertToInteractive('df-dd8b1a22-7527-4bf9-aa11-50cfefb95be1')\"\n",
              "              title=\"Convert this dataframe to an interactive table.\"\n",
              "              style=\"display:none;\">\n",
              "        \n",
              "  <svg xmlns=\"http://www.w3.org/2000/svg\" height=\"24px\"viewBox=\"0 0 24 24\"\n",
              "       width=\"24px\">\n",
              "    <path d=\"M0 0h24v24H0V0z\" fill=\"none\"/>\n",
              "    <path d=\"M18.56 5.44l.94 2.06.94-2.06 2.06-.94-2.06-.94-.94-2.06-.94 2.06-2.06.94zm-11 1L8.5 8.5l.94-2.06 2.06-.94-2.06-.94L8.5 2.5l-.94 2.06-2.06.94zm10 10l.94 2.06.94-2.06 2.06-.94-2.06-.94-.94-2.06-.94 2.06-2.06.94z\"/><path d=\"M17.41 7.96l-1.37-1.37c-.4-.4-.92-.59-1.43-.59-.52 0-1.04.2-1.43.59L10.3 9.45l-7.72 7.72c-.78.78-.78 2.05 0 2.83L4 21.41c.39.39.9.59 1.41.59.51 0 1.02-.2 1.41-.59l7.78-7.78 2.81-2.81c.8-.78.8-2.07 0-2.86zM5.41 20L4 18.59l7.72-7.72 1.47 1.35L5.41 20z\"/>\n",
              "  </svg>\n",
              "      </button>\n",
              "      \n",
              "  <style>\n",
              "    .colab-df-container {\n",
              "      display:flex;\n",
              "      flex-wrap:wrap;\n",
              "      gap: 12px;\n",
              "    }\n",
              "\n",
              "    .colab-df-convert {\n",
              "      background-color: #E8F0FE;\n",
              "      border: none;\n",
              "      border-radius: 50%;\n",
              "      cursor: pointer;\n",
              "      display: none;\n",
              "      fill: #1967D2;\n",
              "      height: 32px;\n",
              "      padding: 0 0 0 0;\n",
              "      width: 32px;\n",
              "    }\n",
              "\n",
              "    .colab-df-convert:hover {\n",
              "      background-color: #E2EBFA;\n",
              "      box-shadow: 0px 1px 2px rgba(60, 64, 67, 0.3), 0px 1px 3px 1px rgba(60, 64, 67, 0.15);\n",
              "      fill: #174EA6;\n",
              "    }\n",
              "\n",
              "    [theme=dark] .colab-df-convert {\n",
              "      background-color: #3B4455;\n",
              "      fill: #D2E3FC;\n",
              "    }\n",
              "\n",
              "    [theme=dark] .colab-df-convert:hover {\n",
              "      background-color: #434B5C;\n",
              "      box-shadow: 0px 1px 3px 1px rgba(0, 0, 0, 0.15);\n",
              "      filter: drop-shadow(0px 1px 2px rgba(0, 0, 0, 0.3));\n",
              "      fill: #FFFFFF;\n",
              "    }\n",
              "  </style>\n",
              "\n",
              "      <script>\n",
              "        const buttonEl =\n",
              "          document.querySelector('#df-dd8b1a22-7527-4bf9-aa11-50cfefb95be1 button.colab-df-convert');\n",
              "        buttonEl.style.display =\n",
              "          google.colab.kernel.accessAllowed ? 'block' : 'none';\n",
              "\n",
              "        async function convertToInteractive(key) {\n",
              "          const element = document.querySelector('#df-dd8b1a22-7527-4bf9-aa11-50cfefb95be1');\n",
              "          const dataTable =\n",
              "            await google.colab.kernel.invokeFunction('convertToInteractive',\n",
              "                                                     [key], {});\n",
              "          if (!dataTable) return;\n",
              "\n",
              "          const docLinkHtml = 'Like what you see? Visit the ' +\n",
              "            '<a target=\"_blank\" href=https://colab.research.google.com/notebooks/data_table.ipynb>data table notebook</a>'\n",
              "            + ' to learn more about interactive tables.';\n",
              "          element.innerHTML = '';\n",
              "          dataTable['output_type'] = 'display_data';\n",
              "          await google.colab.output.renderOutput(dataTable, element);\n",
              "          const docLink = document.createElement('div');\n",
              "          docLink.innerHTML = docLinkHtml;\n",
              "          element.appendChild(docLink);\n",
              "        }\n",
              "      </script>\n",
              "    </div>\n",
              "  </div>\n",
              "  "
            ]
          },
          "metadata": {},
          "execution_count": 5
        }
      ],
      "source": [
        "df.describe().T"
      ]
    },
    {
      "cell_type": "code",
      "execution_count": null,
      "metadata": {
        "id": "GTWJ3upVQA4Z",
        "outputId": "8c6c3ebd-57a2-4dbd-b9ef-d6bc7ac08a47",
        "colab": {
          "base_uri": "https://localhost:8080/"
        }
      },
      "outputs": [
        {
          "output_type": "stream",
          "name": "stdout",
          "text": [
            "<class 'pandas.core.frame.DataFrame'>\n",
            "RangeIndex: 145460 entries, 0 to 145459\n",
            "Data columns (total 23 columns):\n",
            " #   Column         Non-Null Count   Dtype  \n",
            "---  ------         --------------   -----  \n",
            " 0   Date           145460 non-null  object \n",
            " 1   Location       145460 non-null  object \n",
            " 2   MinTemp        143975 non-null  float64\n",
            " 3   MaxTemp        144199 non-null  float64\n",
            " 4   Rainfall       142199 non-null  float64\n",
            " 5   Evaporation    82670 non-null   float64\n",
            " 6   Sunshine       75625 non-null   float64\n",
            " 7   WindGustDir    135134 non-null  object \n",
            " 8   WindGustSpeed  135197 non-null  float64\n",
            " 9   WindDir9am     134894 non-null  object \n",
            " 10  WindDir3pm     141232 non-null  object \n",
            " 11  WindSpeed9am   143693 non-null  float64\n",
            " 12  WindSpeed3pm   142398 non-null  float64\n",
            " 13  Humidity9am    142806 non-null  float64\n",
            " 14  Humidity3pm    140953 non-null  float64\n",
            " 15  Pressure9am    130395 non-null  float64\n",
            " 16  Pressure3pm    130432 non-null  float64\n",
            " 17  Cloud9am       89572 non-null   float64\n",
            " 18  Cloud3pm       86102 non-null   float64\n",
            " 19  Temp9am        143693 non-null  float64\n",
            " 20  Temp3pm        141851 non-null  float64\n",
            " 21  RainToday      142199 non-null  object \n",
            " 22  RainTomorrow   142193 non-null  object \n",
            "dtypes: float64(16), object(7)\n",
            "memory usage: 25.5+ MB\n"
          ]
        }
      ],
      "source": [
        "df.info()"
      ]
    },
    {
      "cell_type": "code",
      "execution_count": null,
      "metadata": {
        "id": "8HYj7CoMQJ-Q"
      },
      "outputs": [],
      "source": [
        "df=df.drop(df[[\"Date\",\"Location\",\"WindGustDir\",\"WindDir9am\",\"WindDir3pm\"]],axis=1)"
      ]
    },
    {
      "cell_type": "code",
      "execution_count": null,
      "metadata": {
        "id": "4giU291IVmYv",
        "outputId": "6980c1a1-36e0-4dfa-d8d8-4d7f2fc5d45d",
        "colab": {
          "base_uri": "https://localhost:8080/"
        }
      },
      "outputs": [
        {
          "output_type": "execute_result",
          "data": {
            "text/plain": [
              "array([ 0.,  1., nan])"
            ]
          },
          "metadata": {},
          "execution_count": 8
        }
      ],
      "source": [
        "df[\"RainToday\"]=df[\"RainToday\"].replace(\"No\",0)\n",
        "df[\"RainToday\"]=df[\"RainToday\"].replace(\"Yes\",1)\n",
        "df[\"RainToday\"].unique()"
      ]
    },
    {
      "cell_type": "code",
      "execution_count": null,
      "metadata": {
        "id": "Eca4o4sVV_T_",
        "outputId": "e94f165b-1ac2-4d2f-f9a5-336ece61b7f6",
        "colab": {
          "base_uri": "https://localhost:8080/"
        }
      },
      "outputs": [
        {
          "output_type": "execute_result",
          "data": {
            "text/plain": [
              "0    0.0\n",
              "dtype: float64"
            ]
          },
          "metadata": {},
          "execution_count": 9
        }
      ],
      "source": [
        "df[\"RainToday\"].mode()"
      ]
    },
    {
      "cell_type": "code",
      "execution_count": null,
      "metadata": {
        "id": "Bf-YFNmqWIBV",
        "outputId": "019a5d5e-508c-414c-ee5f-52483e69263d",
        "colab": {
          "base_uri": "https://localhost:8080/"
        }
      },
      "outputs": [
        {
          "output_type": "execute_result",
          "data": {
            "text/plain": [
              "array([0., 1.])"
            ]
          },
          "metadata": {},
          "execution_count": 10
        }
      ],
      "source": [
        "df[\"RainToday\"]=df[\"RainToday\"].fillna(0)\n",
        "df[\"RainToday\"].unique()"
      ]
    },
    {
      "cell_type": "code",
      "execution_count": null,
      "metadata": {
        "id": "KZT8UJ1WWVQa"
      },
      "outputs": [],
      "source": [
        "df[\"RainTomorrow\"]=df[\"RainTomorrow\"].replace(\"No\",0)\n",
        "df[\"RainTomorrow\"]=df[\"RainTomorrow\"].replace(\"Yes\",1)"
      ]
    },
    {
      "cell_type": "code",
      "execution_count": null,
      "metadata": {
        "id": "innXGgmnWa8m",
        "outputId": "762c551d-cce8-47e4-b4e9-d62d5049b0b9",
        "colab": {
          "base_uri": "https://localhost:8080/"
        }
      },
      "outputs": [
        {
          "output_type": "execute_result",
          "data": {
            "text/plain": [
              "0    0.0\n",
              "dtype: float64"
            ]
          },
          "metadata": {},
          "execution_count": 12
        }
      ],
      "source": [
        "df[\"RainTomorrow\"].mode()"
      ]
    },
    {
      "cell_type": "code",
      "execution_count": null,
      "metadata": {
        "id": "nTdstLXQWdz3"
      },
      "outputs": [],
      "source": [
        "df[\"RainTomorrow\"]=df[\"RainTomorrow\"].fillna(0)"
      ]
    },
    {
      "cell_type": "code",
      "execution_count": null,
      "metadata": {
        "id": "Jj0Bc3qaQ39v",
        "outputId": "3b22bf50-707a-4f65-fc15-6a5d37c2ffdb",
        "colab": {
          "base_uri": "https://localhost:8080/"
        }
      },
      "outputs": [
        {
          "output_type": "execute_result",
          "data": {
            "text/plain": [
              "MinTemp           1485\n",
              "MaxTemp           1261\n",
              "Rainfall          3261\n",
              "Evaporation      62790\n",
              "Sunshine         69835\n",
              "WindGustSpeed    10263\n",
              "WindSpeed9am      1767\n",
              "WindSpeed3pm      3062\n",
              "Humidity9am       2654\n",
              "Humidity3pm       4507\n",
              "Pressure9am      15065\n",
              "Pressure3pm      15028\n",
              "Cloud9am         55888\n",
              "Cloud3pm         59358\n",
              "Temp9am           1767\n",
              "Temp3pm           3609\n",
              "RainToday            0\n",
              "RainTomorrow         0\n",
              "dtype: int64"
            ]
          },
          "metadata": {},
          "execution_count": 14
        }
      ],
      "source": [
        "df.isnull().sum()"
      ]
    },
    {
      "cell_type": "code",
      "execution_count": null,
      "metadata": {
        "id": "_3BfF-LBWwVf"
      },
      "outputs": [],
      "source": [
        "df[\"MinTemp\"].fillna(df[\"MinTemp\"].mean(),inplace=True)"
      ]
    },
    {
      "cell_type": "code",
      "execution_count": null,
      "metadata": {
        "id": "X2nr2h_ERDjN"
      },
      "outputs": [],
      "source": [
        "df[\"MaxTemp\"].fillna(df[\"MaxTemp\"].mean(),inplace=True)\n",
        "df[\"Rainfall\"].fillna(df[\"Rainfall\"].mean(),inplace=True)\n",
        "df[\"Evaporation\"].fillna(df[\"Evaporation\"].mean(),inplace=True)\n",
        "df[\"Sunshine\"].fillna(df[\"Sunshine\"].mean(),inplace=True)\n",
        "df[\"WindGustSpeed\"].fillna(df[\"WindGustSpeed\"].mean(),inplace=True)\n",
        "df[\"WindSpeed3pm\"].fillna(df[\"WindSpeed3pm\"].mean(),inplace=True)\n",
        "df[\"WindSpeed9am\"].fillna(df[\"WindSpeed9am\"].mean(),inplace=True)\n",
        "df[\"Humidity9am\"].fillna(df[\"Humidity9am\"].mean(),inplace=True)\n",
        "df[\"Humidity3pm\"].fillna(df[\"Humidity3pm\"].mean(),inplace=True)\n",
        "df[\"Pressure9am\"].fillna(df[\"Pressure9am\"].mean(),inplace=True)\n",
        "df[\"Pressure3pm\"].fillna(df[\"Pressure3pm\"].mean(),inplace=True)\n",
        "df[\"Cloud3pm\"].fillna(df[\"Cloud3pm\"].mean(),inplace=True)\n",
        "df[\"Cloud9am\"].fillna(df[\"Cloud9am\"].mean(),inplace=True)\n",
        "df[\"Temp9am\"].fillna(df[\"Temp9am\"].mean(),inplace=True)\n",
        "df[\"Temp3pm\"].fillna(df[\"Temp3pm\"].mean(),inplace=True)"
      ]
    },
    {
      "cell_type": "code",
      "execution_count": null,
      "metadata": {
        "id": "zGugzFhPY235",
        "outputId": "c16c3885-5c7d-4cd5-e43b-ced98fb351d0",
        "colab": {
          "base_uri": "https://localhost:8080/"
        }
      },
      "outputs": [
        {
          "output_type": "execute_result",
          "data": {
            "text/plain": [
              "MinTemp          0\n",
              "MaxTemp          0\n",
              "Rainfall         0\n",
              "Evaporation      0\n",
              "Sunshine         0\n",
              "WindGustSpeed    0\n",
              "WindSpeed9am     0\n",
              "WindSpeed3pm     0\n",
              "Humidity9am      0\n",
              "Humidity3pm      0\n",
              "Pressure9am      0\n",
              "Pressure3pm      0\n",
              "Cloud9am         0\n",
              "Cloud3pm         0\n",
              "Temp9am          0\n",
              "Temp3pm          0\n",
              "RainToday        0\n",
              "RainTomorrow     0\n",
              "dtype: int64"
            ]
          },
          "metadata": {},
          "execution_count": 17
        }
      ],
      "source": [
        "df.isnull().sum()"
      ]
    },
    {
      "cell_type": "code",
      "execution_count": null,
      "metadata": {
        "id": "xtLd3P1aaA9T",
        "outputId": "9efd63c1-b2be-4d05-e92b-4cfd9aa54363",
        "colab": {
          "base_uri": "https://localhost:8080/",
          "height": 297
        }
      },
      "outputs": [
        {
          "output_type": "execute_result",
          "data": {
            "text/plain": [
              "<matplotlib.axes._subplots.AxesSubplot at 0x7fcb1c0d1490>"
            ]
          },
          "metadata": {},
          "execution_count": 18
        },
        {
          "output_type": "display_data",
          "data": {
            "text/plain": [
              "<Figure size 432x288 with 1 Axes>"
            ],
            "image/png": "[encoded data removed]"
          },
          "metadata": {
            "needs_background": "light"
          }
        }
      ],
      "source": [
        "sns.kdeplot(df[\"Rainfall\"])"
      ]
    },
    {
      "cell_type": "code",
      "execution_count": null,
      "metadata": {
        "id": "yNqzFgN8auU0",
        "outputId": "4bc3e33a-ab59-449e-d107-0bcb6eb5cfc7",
        "colab": {
          "base_uri": "https://localhost:8080/"
        }
      },
      "outputs": [
        {
          "output_type": "execute_result",
          "data": {
            "text/plain": [
              "0         0.6\n",
              "1         0.0\n",
              "2         0.0\n",
              "3         0.0\n",
              "4         1.0\n",
              "         ... \n",
              "145455    0.0\n",
              "145456    0.0\n",
              "145457    0.0\n",
              "145458    0.0\n",
              "145459    0.0\n",
              "Name: Rainfall, Length: 145460, dtype: float64"
            ]
          },
          "metadata": {},
          "execution_count": 19
        }
      ],
      "source": [
        "df[\"Rainfall\"]"
      ]
    },
    {
      "cell_type": "code",
      "execution_count": null,
      "metadata": {
        "id": "oDKOqzYQbMmU",
        "outputId": "dc16dcc0-cac9-4c2a-d42a-2072046a226d",
        "colab": {
          "base_uri": "https://localhost:8080/"
        }
      },
      "outputs": [
        {
          "output_type": "execute_result",
          "data": {
            "text/plain": [
              "MinTemp             159\n",
              "MaxTemp              14\n",
              "Rainfall          91080\n",
              "Evaporation         244\n",
              "Sunshine           2359\n",
              "WindGustSpeed         0\n",
              "WindSpeed9am       8745\n",
              "WindSpeed3pm       1112\n",
              "Humidity9am           1\n",
              "Humidity3pm           4\n",
              "Pressure9am           0\n",
              "Pressure3pm           0\n",
              "Cloud9am           8642\n",
              "Cloud3pm           4974\n",
              "Temp9am              36\n",
              "Temp3pm              17\n",
              "RainToday        113580\n",
              "RainTomorrow     113583\n",
              "dtype: int64"
            ]
          },
          "metadata": {},
          "execution_count": 20
        }
      ],
      "source": [
        "(df==0).sum()"
      ]
    },
    {
      "cell_type": "code",
      "execution_count": null,
      "metadata": {
        "id": "fkI5mCehbfjy"
      },
      "outputs": [],
      "source": [
        "df[\"MinTemp\"].replace(0,df[\"MinTemp\"].mean(),inplace=True)\n",
        "df[\"MaxTemp\"].replace(0,df[\"MaxTemp\"].mean(),inplace=True)\n",
        "df[\"Rainfall\"].replace(0,df[\"Rainfall\"].mean(),inplace=True)\n",
        "df[\"Evaporation\"].replace(0,df[\"Evaporation\"].mean(),inplace=True)\n",
        "df[\"Sunshine\"].replace(0,df[\"Sunshine\"].mean(),inplace=True)\n",
        "df[\"WindSpeed9am\"].replace(0,df[\"WindSpeed9am\"].mean(),inplace=True)\n",
        "df[\"WindSpeed3pm\"].replace(0,df[\"WindSpeed3pm\"].mean(),inplace=True)\n",
        "df[\"Cloud9am\"].replace(0,df[\"Cloud9am\"].mean(),inplace=True)\n",
        "df[\"Cloud3pm\"].replace(0,df[\"Cloud3pm\"].mean(),inplace=True)\n",
        "df[\"Temp9am\"].replace(0,df[\"Temp9am\"].mean(),inplace=True)\n",
        "df[\"Temp3pm\"].replace(0,df[\"Temp3pm\"].mean(),inplace=True)\n",
        "df[\"Humidity9am\"].replace(0,df[\"Humidity9am\"].mean(),inplace=True)\n",
        "df[\"Humidity3pm\"].replace(0,df[\"Humidity3pm\"].mean(),inplace=True)"
      ]
    },
    {
      "cell_type": "code",
      "execution_count": null,
      "metadata": {
        "id": "MhPFxxPUcXdN",
        "outputId": "e2a86256-edb3-4b28-c149-58c0c88d43ba",
        "colab": {
          "base_uri": "https://localhost:8080/"
        }
      },
      "outputs": [
        {
          "output_type": "execute_result",
          "data": {
            "text/plain": [
              "MinTemp               0\n",
              "MaxTemp               0\n",
              "Rainfall              0\n",
              "Evaporation           0\n",
              "Sunshine              0\n",
              "WindGustSpeed         0\n",
              "WindSpeed9am          0\n",
              "WindSpeed3pm          0\n",
              "Humidity9am           0\n",
              "Humidity3pm           0\n",
              "Pressure9am           0\n",
              "Pressure3pm           0\n",
              "Cloud9am              0\n",
              "Cloud3pm              0\n",
              "Temp9am               0\n",
              "Temp3pm               0\n",
              "RainToday        113580\n",
              "RainTomorrow     113583\n",
              "dtype: int64"
            ]
          },
          "metadata": {},
          "execution_count": 22
        }
      ],
      "source": [
        "(df==0).sum()"
      ]
    },
    {
      "cell_type": "code",
      "execution_count": null,
      "metadata": {
        "id": "4kpGrh1PZKEk",
        "outputId": "36c0c13f-99b0-4d16-9eab-c01bc5ba15a2",
        "colab": {
          "base_uri": "https://localhost:8080/",
          "height": 859
        }
      },
      "outputs": [
        {
          "output_type": "display_data",
          "data": {
            "text/plain": [
              "<Figure size 1440x1440 with 20 Axes>"
            ],
            "image/png": "[encoded data removed]"
          },
          "metadata": {
            "needs_background": "light"
          }
        }
      ],
      "source": [
        "h = df.hist(figsize=(20,20))"
      ]
    },
    {
      "cell_type": "code",
      "execution_count": null,
      "metadata": {
        "id": "IqwylkeScmSJ",
        "outputId": "865833c0-ed38-458b-c663-4f32ff5fdcd1",
        "colab": {
          "base_uri": "https://localhost:8080/",
          "height": 353
        }
      },
      "outputs": [
        {
          "output_type": "stream",
          "name": "stderr",
          "text": [
            "/usr/local/lib/python3.7/dist-packages/seaborn/distributions.py:2619: FutureWarning: `distplot` is a deprecated function and will be removed in a future version. Please adapt your code to use either `displot` (a figure-level function with similar flexibility) or `histplot` (an axes-level function for histograms).\n",
            "  warnings.warn(msg, FutureWarning)\n"
          ]
        },
        {
          "output_type": "execute_result",
          "data": {
            "text/plain": [
              "<matplotlib.axes._subplots.AxesSubplot at 0x7fcb168fedd0>"
            ]
          },
          "metadata": {},
          "execution_count": 24
        },
        {
          "output_type": "display_data",
          "data": {
            "text/plain": [
              "<Figure size 432x288 with 1 Axes>"
            ],
            "image/png": "[encoded data removed]"
          },
          "metadata": {
            "needs_background": "light"
          }
        }
      ],
      "source": [
        "sns.distplot(df[\"Rainfall\"],bins=\"auto\")"
      ]
    },
    {
      "cell_type": "code",
      "execution_count": null,
      "metadata": {
        "id": "wNEUKsVQdfTl"
      },
      "outputs": [],
      "source": [
        "x=df.drop([\"RainTomorrow\"],axis=1)\n",
        "y=df[\"RainTomorrow\"]"
      ]
    },
    {
      "cell_type": "code",
      "execution_count": null,
      "metadata": {
        "id": "jkAd4up3Y6Lm",
        "outputId": "6fce9ead-474c-468b-fa58-864893b756cc",
        "colab": {
          "base_uri": "https://localhost:8080/"
        }
      },
      "outputs": [
        {
          "output_type": "stream",
          "name": "stdout",
          "text": [
            "<class 'pandas.core.frame.DataFrame'>\n",
            "RangeIndex: 145460 entries, 0 to 145459\n",
            "Data columns (total 17 columns):\n",
            " #   Column         Non-Null Count   Dtype  \n",
            "---  ------         --------------   -----  \n",
            " 0   MinTemp        145460 non-null  float64\n",
            " 1   MaxTemp        145460 non-null  float64\n",
            " 2   Rainfall       145460 non-null  float64\n",
            " 3   Evaporation    145460 non-null  float64\n",
            " 4   Sunshine       145460 non-null  float64\n",
            " 5   WindGustSpeed  145460 non-null  float64\n",
            " 6   WindSpeed9am   145460 non-null  float64\n",
            " 7   WindSpeed3pm   145460 non-null  float64\n",
            " 8   Humidity9am    145460 non-null  float64\n",
            " 9   Humidity3pm    145460 non-null  float64\n",
            " 10  Pressure9am    145460 non-null  float64\n",
            " 11  Pressure3pm    145460 non-null  float64\n",
            " 12  Cloud9am       145460 non-null  float64\n",
            " 13  Cloud3pm       145460 non-null  float64\n",
            " 14  Temp9am        145460 non-null  float64\n",
            " 15  Temp3pm        145460 non-null  float64\n",
            " 16  RainToday      145460 non-null  float64\n",
            "dtypes: float64(17)\n",
            "memory usage: 18.9 MB\n"
          ]
        }
      ],
      "source": [
        "x.info()"
      ]
    },
    {
      "cell_type": "code",
      "execution_count": null,
      "metadata": {
        "id": "quinhBQBd94Y"
      },
      "outputs": [],
      "source": [
        "from sklearn.preprocessing import MinMaxScaler"
      ]
    },
    {
      "cell_type": "code",
      "execution_count": null,
      "metadata": {
        "id": "3hKQ5gIOeHex"
      },
      "outputs": [],
      "source": [
        "sc=MinMaxScaler()\n",
        "x_scaled=sc.fit_transform(x)"
      ]
    },
    {
      "cell_type": "code",
      "execution_count": null,
      "metadata": {
        "id": "U10wDIQjY6Lm",
        "outputId": "a7d2e564-4360-4ac3-eef6-fd114f947873",
        "colab": {
          "base_uri": "https://localhost:8080/"
        }
      },
      "outputs": [
        {
          "output_type": "execute_result",
          "data": {
            "text/plain": [
              "array([[0.53282828, 0.49233716, 0.01092675, ..., 0.43792325, 0.48616601,\n",
              "        1.        ],\n",
              "       [0.58838384, 0.41762452, 0.04653986, ..., 0.46726862, 0.39525692,\n",
              "        1.        ],\n",
              "       [0.43686869, 0.37931034, 0.00914981, ..., 0.41083521, 0.37549407,\n",
              "        0.        ],\n",
              "       ...,\n",
              "       [0.14646465, 0.21264368, 0.00121408, ..., 0.1241535 , 0.21146245,\n",
              "        0.        ],\n",
              "       [0.76010101, 0.73371648, 0.00914981, ..., 0.72911964, 0.69367589,\n",
              "        0.        ],\n",
              "       [0.51262626, 0.51340996, 0.00914981, ..., 0.47404063, 0.50790514,\n",
              "        0.        ]])"
            ]
          },
          "metadata": {},
          "execution_count": 75
        }
      ],
      "source": [
        "x_scaled"
      ]
    },
    {
      "cell_type": "code",
      "execution_count": null,
      "metadata": {
        "id": "cM1hb5l6eoxU"
      },
      "outputs": [],
      "source": [
        "from sklearn.model_selection import train_test_split"
      ]
    },
    {
      "cell_type": "code",
      "execution_count": null,
      "metadata": {
        "id": "XHko-Afley28"
      },
      "outputs": [],
      "source": [
        "x_train,x_test,y_train,y_test = train_test_split(x_scaled,y,test_size=0.2,random_state=101)"
      ]
    },
    {
      "cell_type": "code",
      "execution_count": null,
      "metadata": {
        "id": "tpnJY_kR-E_h"
      },
      "outputs": [],
      "source": [
        "from sklearn import svm"
      ]
    },
    {
      "cell_type": "code",
      "execution_count": null,
      "metadata": {
        "id": "hFGYTig0Y6Lm"
      },
      "outputs": [],
      "source": [
        "xtrain=x_train\n",
        "ytrain=np.ravel(y_train)"
      ]
    },
    {
      "cell_type": "code",
      "execution_count": null,
      "metadata": {
        "id": "CGuag1MFY6Lm"
      },
      "outputs": [],
      "source": [
        "linear = svm.SVC(kernel=\"linear\")"
      ]
    },
    {
      "cell_type": "code",
      "execution_count": null,
      "metadata": {
        "id": "UGaBrqv6Y6Ln",
        "outputId": "9ce79b74-ddfd-48ae-fa58-fb61353bdc4f",
        "colab": {
          "base_uri": "https://localhost:8080/"
        }
      },
      "outputs": [
        {
          "output_type": "execute_result",
          "data": {
            "text/plain": [
              "SVC(kernel='linear')"
            ]
          },
          "metadata": {},
          "execution_count": 36
        }
      ],
      "source": [
        "linear.fit(xtrain, ytrain)"
      ]
    },
    {
      "cell_type": "code",
      "execution_count": null,
      "metadata": {
        "id": "ve3RY7JnY6Ln",
        "outputId": "e38ff009-f951-4f7e-9647-28b9fcb0e89f",
        "colab": {
          "base_uri": "https://localhost:8080/"
        }
      },
      "outputs": [
        {
          "output_type": "stream",
          "name": "stdout",
          "text": [
            "Train Accuracy_Score = 0.8428090196617627\n",
            "Test Accuracy_Score = 0.8410903341124708\n"
          ]
        }
      ],
      "source": [
        "poly_pred_train = linear.predict(xtrain)\n",
        "poly_pred_test = linear.predict(x_test)\n",
        "\n",
        "from sklearn import metrics\n",
        "\n",
        "print(\"Train Accuracy_Score =\", format(metrics.accuracy_score( poly_pred_train,ytrain)))\n",
        "print(\"Test Accuracy_Score =\", format(metrics.accuracy_score( poly_pred_test,y_test)))"
      ]
    },
    {
      "cell_type": "code",
      "execution_count": null,
      "metadata": {
        "id": "HxCzEwZAY6Ln",
        "outputId": "252971f5-eee6-4df3-8b99-dfa52080854a",
        "colab": {
          "base_uri": "https://localhost:8080/"
        }
      },
      "outputs": [
        {
          "output_type": "stream",
          "name": "stdout",
          "text": [
            "[[21630  3589]\n",
            " [ 1034  2839]]\n"
          ]
        }
      ],
      "source": [
        "cm = metrics.confusion_matrix(poly_pred_test,y_test)\n",
        "print(cm)"
      ]
    },
    {
      "cell_type": "code",
      "source": [
        "from sklearn.metrics import classification_report, accuracy_score"
      ],
      "metadata": {
        "id": "TCPjBGcbb4Tp"
      },
      "execution_count": null,
      "outputs": []
    },
    {
      "cell_type": "code",
      "execution_count": null,
      "metadata": {
        "id": "RTVQ_ZXqY6Ln",
        "outputId": "287c413f-1cec-499c-8daa-45ccffc007bb",
        "colab": {
          "base_uri": "https://localhost:8080/"
        }
      },
      "outputs": [
        {
          "output_type": "stream",
          "name": "stdout",
          "text": [
            "              precision    recall  f1-score   support\n",
            "\n",
            "         0.0       0.95      0.86      0.90     25219\n",
            "         1.0       0.44      0.73      0.55      3873\n",
            "\n",
            "    accuracy                           0.84     29092\n",
            "   macro avg       0.70      0.80      0.73     29092\n",
            "weighted avg       0.89      0.84      0.86     29092\n",
            "\n"
          ]
        }
      ],
      "source": [
        "print(classification_report(poly_pred_test,y_test))"
      ]
    },
    {
      "cell_type": "code",
      "execution_count": null,
      "metadata": {
        "id": "8KLu4eBEY6Ln"
      },
      "outputs": [],
      "source": [
        "from keras.models import Sequential\n",
        "from keras.layers import Dense"
      ]
    },
    {
      "cell_type": "code",
      "execution_count": null,
      "metadata": {
        "id": "MIErPeVCY6Ln"
      },
      "outputs": [],
      "source": [
        "ann = Sequential()\n",
        "ann.add(Dense(units=512,activation=\"relu\"))\n",
        "ann.add(Dense(units=512,activation=\"relu\"))\n",
        "ann.add(Dense(units=1,activation=\"sigmoid\"))"
      ]
    },
    {
      "cell_type": "code",
      "execution_count": null,
      "metadata": {
        "id": "T_shTKVDY6Ln"
      },
      "outputs": [],
      "source": [
        "ann.compile(optimizer=\"adam\",loss=\"binary_crossentropy\",metrics=[\"accuracy\"])"
      ]
    },
    {
      "cell_type": "code",
      "execution_count": null,
      "metadata": {
        "id": "2FGum-xmY6Ln",
        "outputId": "b88ed27d-6f2d-4612-b312-9508889d9a84",
        "colab": {
          "base_uri": "https://localhost:8080/"
        }
      },
      "outputs": [
        {
          "output_type": "stream",
          "name": "stdout",
          "text": [
            "Epoch 1/50\n",
            "11637/11637 [==============================] - 36s 3ms/step - loss: 0.3734 - accuracy: 0.8392\n",
            "Epoch 2/50\n",
            "11637/11637 [==============================] - 32s 3ms/step - loss: 0.3642 - accuracy: 0.8426\n",
            "Epoch 3/50\n",
            "11637/11637 [==============================] - 31s 3ms/step - loss: 0.3612 - accuracy: 0.8438\n",
            "Epoch 4/50\n",
            "11637/11637 [==============================] - 32s 3ms/step - loss: 0.3594 - accuracy: 0.8437\n",
            "Epoch 5/50\n",
            "11637/11637 [==============================] - 32s 3ms/step - loss: 0.3579 - accuracy: 0.8455\n",
            "Epoch 6/50\n",
            "11637/11637 [==============================] - 31s 3ms/step - loss: 0.3571 - accuracy: 0.8460\n",
            "Epoch 7/50\n",
            "11637/11637 [==============================] - 32s 3ms/step - loss: 0.3563 - accuracy: 0.8462\n",
            "Epoch 8/50\n",
            "11637/11637 [==============================] - 32s 3ms/step - loss: 0.3555 - accuracy: 0.8466\n",
            "Epoch 9/50\n",
            "11637/11637 [==============================] - 31s 3ms/step - loss: 0.3550 - accuracy: 0.8474\n",
            "Epoch 10/50\n",
            "11637/11637 [==============================] - 36s 3ms/step - loss: 0.3544 - accuracy: 0.8466\n",
            "Epoch 11/50\n",
            "11637/11637 [==============================] - 32s 3ms/step - loss: 0.3544 - accuracy: 0.8469\n",
            "Epoch 12/50\n",
            "11637/11637 [==============================] - 32s 3ms/step - loss: 0.3537 - accuracy: 0.8471\n",
            "Epoch 13/50\n",
            "11637/11637 [==============================] - 32s 3ms/step - loss: 0.3532 - accuracy: 0.8484\n",
            "Epoch 14/50\n",
            "11637/11637 [==============================] - 32s 3ms/step - loss: 0.3526 - accuracy: 0.8480\n",
            "Epoch 15/50\n",
            "11637/11637 [==============================] - 33s 3ms/step - loss: 0.3526 - accuracy: 0.8481\n",
            "Epoch 16/50\n",
            "11637/11637 [==============================] - 32s 3ms/step - loss: 0.3521 - accuracy: 0.8481\n",
            "Epoch 17/50\n",
            "11637/11637 [==============================] - 32s 3ms/step - loss: 0.3516 - accuracy: 0.8483\n",
            "Epoch 18/50\n",
            "11637/11637 [==============================] - 32s 3ms/step - loss: 0.3515 - accuracy: 0.8485\n",
            "Epoch 19/50\n",
            "11637/11637 [==============================] - 32s 3ms/step - loss: 0.3510 - accuracy: 0.8490\n",
            "Epoch 20/50\n",
            "11637/11637 [==============================] - 32s 3ms/step - loss: 0.3506 - accuracy: 0.8490\n",
            "Epoch 21/50\n",
            "11637/11637 [==============================] - 35s 3ms/step - loss: 0.3505 - accuracy: 0.8487\n",
            "Epoch 22/50\n",
            "11637/11637 [==============================] - 32s 3ms/step - loss: 0.3505 - accuracy: 0.8493\n",
            "Epoch 23/50\n",
            "11637/11637 [==============================] - 32s 3ms/step - loss: 0.3504 - accuracy: 0.8493\n",
            "Epoch 24/50\n",
            "11637/11637 [==============================] - 32s 3ms/step - loss: 0.3502 - accuracy: 0.8491\n",
            "Epoch 25/50\n",
            "11637/11637 [==============================] - 33s 3ms/step - loss: 0.3499 - accuracy: 0.8494\n",
            "Epoch 26/50\n",
            "11637/11637 [==============================] - 32s 3ms/step - loss: 0.3497 - accuracy: 0.8493\n",
            "Epoch 27/50\n",
            "11637/11637 [==============================] - 32s 3ms/step - loss: 0.3493 - accuracy: 0.8492\n",
            "Epoch 28/50\n",
            "11637/11637 [==============================] - 32s 3ms/step - loss: 0.3493 - accuracy: 0.8495\n",
            "Epoch 29/50\n",
            "11637/11637 [==============================] - 33s 3ms/step - loss: 0.3491 - accuracy: 0.8497\n",
            "Epoch 30/50\n",
            "11637/11637 [==============================] - 32s 3ms/step - loss: 0.3489 - accuracy: 0.8501\n",
            "Epoch 31/50\n",
            "11637/11637 [==============================] - 31s 3ms/step - loss: 0.3489 - accuracy: 0.8496\n",
            "Epoch 32/50\n",
            "11637/11637 [==============================] - 32s 3ms/step - loss: 0.3485 - accuracy: 0.8493\n",
            "Epoch 33/50\n",
            "11637/11637 [==============================] - 32s 3ms/step - loss: 0.3487 - accuracy: 0.8499\n",
            "Epoch 34/50\n",
            "11637/11637 [==============================] - 32s 3ms/step - loss: 0.3488 - accuracy: 0.8497\n",
            "Epoch 35/50\n",
            "11637/11637 [==============================] - 32s 3ms/step - loss: 0.3480 - accuracy: 0.8500\n",
            "Epoch 36/50\n",
            "11637/11637 [==============================] - 31s 3ms/step - loss: 0.3479 - accuracy: 0.8502\n",
            "Epoch 37/50\n",
            "11637/11637 [==============================] - 32s 3ms/step - loss: 0.3480 - accuracy: 0.8501\n",
            "Epoch 38/50\n",
            "11637/11637 [==============================] - 31s 3ms/step - loss: 0.3479 - accuracy: 0.8497\n",
            "Epoch 39/50\n",
            "11637/11637 [==============================] - 31s 3ms/step - loss: 0.3478 - accuracy: 0.8496\n",
            "Epoch 40/50\n",
            "11637/11637 [==============================] - 32s 3ms/step - loss: 0.3474 - accuracy: 0.8503\n",
            "Epoch 41/50\n",
            "11637/11637 [==============================] - 31s 3ms/step - loss: 0.3472 - accuracy: 0.8507\n",
            "Epoch 42/50\n",
            "11637/11637 [==============================] - 31s 3ms/step - loss: 0.3475 - accuracy: 0.8507\n",
            "Epoch 43/50\n",
            "11637/11637 [==============================] - 31s 3ms/step - loss: 0.3472 - accuracy: 0.8501\n",
            "Epoch 44/50\n",
            "11637/11637 [==============================] - 32s 3ms/step - loss: 0.3472 - accuracy: 0.8502\n",
            "Epoch 45/50\n",
            "11637/11637 [==============================] - 31s 3ms/step - loss: 0.3469 - accuracy: 0.8506\n",
            "Epoch 46/50\n",
            "11637/11637 [==============================] - 31s 3ms/step - loss: 0.3467 - accuracy: 0.8501\n",
            "Epoch 47/50\n",
            "11637/11637 [==============================] - 31s 3ms/step - loss: 0.3470 - accuracy: 0.8505\n",
            "Epoch 48/50\n",
            "11637/11637 [==============================] - 31s 3ms/step - loss: 0.3468 - accuracy: 0.8512\n",
            "Epoch 49/50\n",
            "11637/11637 [==============================] - 31s 3ms/step - loss: 0.3460 - accuracy: 0.8514\n",
            "Epoch 50/50\n",
            "11637/11637 [==============================] - 32s 3ms/step - loss: 0.3463 - accuracy: 0.8511\n"
          ]
        },
        {
          "output_type": "execute_result",
          "data": {
            "text/plain": [
              "<keras.callbacks.History at 0x7fcaa04936d0>"
            ]
          },
          "metadata": {},
          "execution_count": 45
        }
      ],
      "source": [
        "ann.fit(x_train,y_train,batch_size=10,epochs=50)"
      ]
    },
    {
      "cell_type": "code",
      "execution_count": null,
      "metadata": {
        "id": "WcCQyAEHY6Ln",
        "outputId": "8f9618e3-5ab1-4d87-cbd0-231652783e86",
        "colab": {
          "base_uri": "https://localhost:8080/"
        }
      },
      "outputs": [
        {
          "output_type": "execute_result",
          "data": {
            "text/plain": [
              "0.7790457857830332"
            ]
          },
          "metadata": {},
          "execution_count": 46
        }
      ],
      "source": [
        "from sklearn.metrics import accuracy_score\n",
        "y_pred = ann.predict(x_test)\n",
        "y_pred = np.argmax(y_pred, axis=1)\n",
        "accuracy_score(y_test, y_pred)"
      ]
    },
    {
      "cell_type": "code",
      "execution_count": null,
      "metadata": {
        "id": "NYO1egNoY6Ln",
        "outputId": "feff758c-2a6f-4cbc-91a8-b0c47355d8bf",
        "colab": {
          "base_uri": "https://localhost:8080/"
        }
      },
      "outputs": [
        {
          "output_type": "stream",
          "name": "stdout",
          "text": [
            "Training set:\n",
            "\tAccuracy:0.851\n",
            "\tClassification Report\n",
            "              precision    recall  f1-score   support\n",
            "\n",
            "         0.0       0.87      0.96      0.91     90919\n",
            "         1.0       0.76      0.47      0.58     25449\n",
            "\n",
            "    accuracy                           0.85    116368\n",
            "   macro avg       0.81      0.71      0.74    116368\n",
            "weighted avg       0.84      0.85      0.84    116368\n",
            "\n",
            "Test set:\n",
            "\tAccuracy:0.849\n",
            "\tClassification Report\n",
            "              precision    recall  f1-score   support\n",
            "\n",
            "         0.0       0.86      0.96      0.91     22664\n",
            "         1.0       0.75      0.47      0.58      6428\n",
            "\n",
            "    accuracy                           0.85     29092\n",
            "   macro avg       0.81      0.71      0.74     29092\n",
            "weighted avg       0.84      0.85      0.83     29092\n",
            "\n"
          ]
        }
      ],
      "source": [
        "from sklearn.metrics import classification_report, accuracy_score\n",
        "x_lst = [x_train, x_test]\n",
        "y_lst = [y_train, y_test]\n",
        "for i,(x,y) in enumerate(zip(x_lst, y_lst)):\n",
        "    y_pred = ann.predict(x)\n",
        "    y_pred = np.around(y_pred)\n",
        "    y_pred = np.asarray(y_pred)\n",
        "    if i == 0:\n",
        "        print('Training set:')\n",
        "        print('\\tAccuracy:{:0.3f}\\n\\tClassification Report\\n{}'.format(accuracy_score(y, y_pred), \n",
        "                                                                  classification_report(y, y_pred)))\n",
        "    else:\n",
        "        print('Test set:')\n",
        "        print('\\tAccuracy:{:0.3f}\\n\\tClassification Report\\n{}'.format(accuracy_score(y, y_pred), \n",
        "                                                                  classification_report(y, y_pred)))"
      ]
    },
    {
      "cell_type": "code",
      "execution_count": null,
      "metadata": {
        "id": "VChLr8RRY6Ln"
      },
      "outputs": [],
      "source": [
        "from keras import layers\n",
        "from keras.layers import Activation, Dense, Dropout, BatchNormalization, Input , Flatten , Conv2D , MaxPooling2D\n",
        "from keras.models import Model\n",
        "from tensorflow.keras.optimizers import Adam\n",
        "from keras.callbacks import ReduceLROnPlateau, EarlyStopping"
      ]
    },
    {
      "cell_type": "code",
      "execution_count": null,
      "metadata": {
        "id": "n_tzHJF3Y6Ln"
      },
      "outputs": [],
      "source": [
        "def nn():\n",
        "    inputs = Input(name='inputs', shape=[x_train.shape[1],])\n",
        "    layer = Dense(512, name='FC1')(inputs)\n",
        "    layer = BatchNormalization(name='BC1')(layer)\n",
        "    layer = Activation('relu', name='Activation1')(layer)\n",
        "    layer = Dropout(0.3, name='Dropout1')(layer)\n",
        "    layer = Dense(512, name='FC2')(layer)\n",
        "    layer = BatchNormalization(name='BC2')(layer)\n",
        "    layer = Activation('relu', name='Activation2')(layer)\n",
        "    layer = Dropout(0.3, name='Dropout2')(layer)\n",
        "    layer = Dense(1, name='OutLayer')(layer)\n",
        "    layer = Activation('sigmoid', name='sigmoid')(layer)\n",
        "    model = Model(inputs=inputs, outputs=layer)\n",
        "    return model"
      ]
    },
    {
      "cell_type": "code",
      "execution_count": null,
      "metadata": {
        "id": "OVtvPSALY6Ln",
        "outputId": "d7677284-7ba5-4720-e5eb-dc35bcbd0130",
        "colab": {
          "base_uri": "https://localhost:8080/"
        }
      },
      "outputs": [
        {
          "output_type": "stream",
          "name": "stdout",
          "text": [
            "Model: \"model\"\n",
            "_________________________________________________________________\n",
            " Layer (type)                Output Shape              Param #   \n",
            "=================================================================\n",
            " inputs (InputLayer)         [(None, 17)]              0         \n",
            "                                                                 \n",
            " FC1 (Dense)                 (None, 512)               9216      \n",
            "                                                                 \n",
            " BC1 (BatchNormalization)    (None, 512)               2048      \n",
            "                                                                 \n",
            " Activation1 (Activation)    (None, 512)               0         \n",
            "                                                                 \n",
            " Dropout1 (Dropout)          (None, 512)               0         \n",
            "                                                                 \n",
            " FC2 (Dense)                 (None, 512)               262656    \n",
            "                                                                 \n",
            " BC2 (BatchNormalization)    (None, 512)               2048      \n",
            "                                                                 \n",
            " Activation2 (Activation)    (None, 512)               0         \n",
            "                                                                 \n",
            " Dropout2 (Dropout)          (None, 512)               0         \n",
            "                                                                 \n",
            " OutLayer (Dense)            (None, 1)                 513       \n",
            "                                                                 \n",
            " sigmoid (Activation)        (None, 1)                 0         \n",
            "                                                                 \n",
            "=================================================================\n",
            "Total params: 276,481\n",
            "Trainable params: 274,433\n",
            "Non-trainable params: 2,048\n",
            "_________________________________________________________________\n"
          ]
        }
      ],
      "source": [
        "model = nn()\n",
        "model.summary()"
      ]
    },
    {
      "cell_type": "code",
      "execution_count": null,
      "metadata": {
        "id": "vr2NjUIiY6Ln"
      },
      "outputs": [],
      "source": [
        "model.compile(loss='binary_crossentropy', optimizer=Adam(), metrics=['accuracy'])"
      ]
    },
    {
      "cell_type": "code",
      "execution_count": null,
      "metadata": {
        "id": "LN6hSRGwY6Ln"
      },
      "outputs": [],
      "source": [
        "reduce_lr = ReduceLROnPlateau()\n",
        "early_stopping = EarlyStopping(patience=20, min_delta=0.0001)"
      ]
    },
    {
      "cell_type": "code",
      "source": [
        "sc=MinMaxScaler()\n",
        "x_scaled=sc.fit_transform(x)"
      ],
      "metadata": {
        "id": "ncyjeiX4uKxq"
      },
      "execution_count": null,
      "outputs": []
    },
    {
      "cell_type": "code",
      "source": [
        "x_scaled"
      ],
      "metadata": {
        "colab": {
          "base_uri": "https://localhost:8080/"
        },
        "id": "GDyeXHUwuP4y",
        "outputId": "b68a21ab-38ef-4ddc-920c-3c36897a2ace"
      },
      "execution_count": null,
      "outputs": [
        {
          "output_type": "execute_result",
          "data": {
            "text/plain": [
              "array([[0.23768116, 0.2983871 , 0.07780157, ..., 0.3510101 , 0.30532787,\n",
              "        1.        ],\n",
              "       [0.80869565, 0.65120968, 0.01613789, ..., 0.83585859, 0.63729508,\n",
              "        0.        ],\n",
              "       [0.42318841, 0.32459677, 0.03069236, ..., 0.42676768, 0.30327869,\n",
              "        1.        ],\n",
              "       ...,\n",
              "       [0.43478261, 0.49596774, 0.01613789, ..., 0.46464646, 0.48155738,\n",
              "        0.        ],\n",
              "       [0.51014493, 0.375     , 0.00214133, ..., 0.46212121, 0.39754098,\n",
              "        0.        ],\n",
              "       [0.20289855, 0.48991935, 0.01613789, ..., 0.51767677, 0.51434426,\n",
              "        0.        ]])"
            ]
          },
          "metadata": {},
          "execution_count": 101
        }
      ]
    },
    {
      "cell_type": "code",
      "execution_count": null,
      "metadata": {
        "id": "4SzGKAznY6Ln"
      },
      "outputs": [],
      "source": [
        "x1_train,x1_test,y1_train,y1_test = train_test_split(x_scaled,y,test_size=0.2,random_state=101)\n",
        "x1_dev, x1_test, y1_dev, y1_test = train_test_split(x1_test, y1_test, test_size=0.5, random_state=2)\n",
        "x1_dev = sc.transform(x1_dev)\n",
        "x1_test = sc.transform(x1_test)"
      ]
    },
    {
      "cell_type": "code",
      "execution_count": null,
      "metadata": {
        "id": "n4TZvLg7Y6Lo",
        "outputId": "85013760-0c8a-4e4f-9aa2-1e7ca3e767cc",
        "colab": {
          "base_uri": "https://localhost:8080/"
        }
      },
      "outputs": [
        {
          "output_type": "stream",
          "name": "stdout",
          "text": [
            "Epoch 1/50\n",
            "728/728 [==============================] - 4s 5ms/step - loss: 0.4112 - accuracy: 0.8208 - val_loss: 0.3743 - val_accuracy: 0.8381 - lr: 0.0010\n",
            "Epoch 2/50\n",
            "728/728 [==============================] - 3s 4ms/step - loss: 0.3794 - accuracy: 0.8365 - val_loss: 0.3709 - val_accuracy: 0.8364 - lr: 0.0010\n",
            "Epoch 3/50\n",
            "728/728 [==============================] - 3s 4ms/step - loss: 0.3733 - accuracy: 0.8390 - val_loss: 0.3748 - val_accuracy: 0.8388 - lr: 0.0010\n",
            "Epoch 4/50\n",
            "728/728 [==============================] - 3s 4ms/step - loss: 0.3710 - accuracy: 0.8396 - val_loss: 0.3635 - val_accuracy: 0.8453 - lr: 0.0010\n",
            "Epoch 5/50\n",
            "728/728 [==============================] - 3s 5ms/step - loss: 0.3671 - accuracy: 0.8406 - val_loss: 0.3625 - val_accuracy: 0.8426 - lr: 0.0010\n",
            "Epoch 6/50\n",
            "728/728 [==============================] - 3s 4ms/step - loss: 0.3665 - accuracy: 0.8427 - val_loss: 0.3719 - val_accuracy: 0.8388 - lr: 0.0010\n",
            "Epoch 7/50\n",
            "728/728 [==============================] - 3s 5ms/step - loss: 0.3636 - accuracy: 0.8443 - val_loss: 0.3625 - val_accuracy: 0.8457 - lr: 0.0010\n",
            "Epoch 8/50\n",
            "728/728 [==============================] - 3s 4ms/step - loss: 0.3637 - accuracy: 0.8426 - val_loss: 0.3774 - val_accuracy: 0.8408 - lr: 0.0010\n",
            "Epoch 9/50\n",
            "728/728 [==============================] - 3s 5ms/step - loss: 0.3628 - accuracy: 0.8436 - val_loss: 0.3658 - val_accuracy: 0.8453 - lr: 0.0010\n",
            "Epoch 10/50\n",
            "728/728 [==============================] - 3s 5ms/step - loss: 0.3615 - accuracy: 0.8438 - val_loss: 0.3698 - val_accuracy: 0.8402 - lr: 0.0010\n",
            "Epoch 11/50\n",
            "728/728 [==============================] - 3s 4ms/step - loss: 0.3596 - accuracy: 0.8445 - val_loss: 0.3639 - val_accuracy: 0.8463 - lr: 0.0010\n",
            "Epoch 12/50\n",
            "728/728 [==============================] - 3s 5ms/step - loss: 0.3606 - accuracy: 0.8448 - val_loss: 0.3607 - val_accuracy: 0.8432 - lr: 0.0010\n",
            "Epoch 13/50\n",
            "728/728 [==============================] - 3s 5ms/step - loss: 0.3583 - accuracy: 0.8463 - val_loss: 0.3639 - val_accuracy: 0.8422 - lr: 0.0010\n",
            "Epoch 14/50\n",
            "728/728 [==============================] - 3s 4ms/step - loss: 0.3577 - accuracy: 0.8452 - val_loss: 0.3608 - val_accuracy: 0.8426 - lr: 0.0010\n",
            "Epoch 15/50\n",
            "728/728 [==============================] - 3s 5ms/step - loss: 0.3567 - accuracy: 0.8464 - val_loss: 0.3674 - val_accuracy: 0.8436 - lr: 0.0010\n",
            "Epoch 16/50\n",
            "728/728 [==============================] - 3s 4ms/step - loss: 0.3541 - accuracy: 0.8474 - val_loss: 0.3634 - val_accuracy: 0.8463 - lr: 0.0010\n",
            "Epoch 17/50\n",
            "728/728 [==============================] - 3s 4ms/step - loss: 0.3559 - accuracy: 0.8464 - val_loss: 0.3787 - val_accuracy: 0.8329 - lr: 0.0010\n",
            "Epoch 18/50\n",
            "728/728 [==============================] - 3s 4ms/step - loss: 0.3551 - accuracy: 0.8462 - val_loss: 0.3845 - val_accuracy: 0.8381 - lr: 0.0010\n",
            "Epoch 19/50\n",
            "728/728 [==============================] - 3s 4ms/step - loss: 0.3551 - accuracy: 0.8452 - val_loss: 0.3602 - val_accuracy: 0.8450 - lr: 0.0010\n",
            "Epoch 20/50\n",
            "728/728 [==============================] - 3s 5ms/step - loss: 0.3535 - accuracy: 0.8482 - val_loss: 0.3647 - val_accuracy: 0.8450 - lr: 0.0010\n",
            "Epoch 21/50\n",
            "728/728 [==============================] - 3s 4ms/step - loss: 0.3529 - accuracy: 0.8457 - val_loss: 0.3691 - val_accuracy: 0.8439 - lr: 0.0010\n",
            "Epoch 22/50\n",
            "728/728 [==============================] - 3s 5ms/step - loss: 0.3496 - accuracy: 0.8497 - val_loss: 0.3629 - val_accuracy: 0.8426 - lr: 0.0010\n",
            "Epoch 23/50\n",
            "728/728 [==============================] - 3s 5ms/step - loss: 0.3512 - accuracy: 0.8497 - val_loss: 0.3626 - val_accuracy: 0.8481 - lr: 0.0010\n",
            "Epoch 24/50\n",
            "728/728 [==============================] - 3s 4ms/step - loss: 0.3516 - accuracy: 0.8493 - val_loss: 0.3721 - val_accuracy: 0.8367 - lr: 0.0010\n",
            "Epoch 25/50\n",
            "728/728 [==============================] - 3s 4ms/step - loss: 0.3495 - accuracy: 0.8499 - val_loss: 0.3648 - val_accuracy: 0.8436 - lr: 0.0010\n",
            "Epoch 26/50\n",
            "728/728 [==============================] - 3s 4ms/step - loss: 0.3481 - accuracy: 0.8513 - val_loss: 0.3547 - val_accuracy: 0.8453 - lr: 0.0010\n",
            "Epoch 27/50\n",
            "728/728 [==============================] - 3s 5ms/step - loss: 0.3508 - accuracy: 0.8488 - val_loss: 0.3600 - val_accuracy: 0.8450 - lr: 0.0010\n",
            "Epoch 28/50\n",
            "728/728 [==============================] - 3s 4ms/step - loss: 0.3486 - accuracy: 0.8481 - val_loss: 0.3574 - val_accuracy: 0.8432 - lr: 0.0010\n",
            "Epoch 29/50\n",
            "728/728 [==============================] - 3s 4ms/step - loss: 0.3482 - accuracy: 0.8515 - val_loss: 0.3719 - val_accuracy: 0.8398 - lr: 0.0010\n",
            "Epoch 30/50\n",
            "728/728 [==============================] - 3s 4ms/step - loss: 0.3468 - accuracy: 0.8525 - val_loss: 0.3586 - val_accuracy: 0.8446 - lr: 0.0010\n",
            "Epoch 31/50\n",
            "728/728 [==============================] - 3s 5ms/step - loss: 0.3449 - accuracy: 0.8512 - val_loss: 0.3636 - val_accuracy: 0.8412 - lr: 0.0010\n",
            "Epoch 32/50\n",
            "728/728 [==============================] - 3s 4ms/step - loss: 0.3450 - accuracy: 0.8532 - val_loss: 0.3665 - val_accuracy: 0.8450 - lr: 0.0010\n",
            "Epoch 33/50\n",
            "728/728 [==============================] - 3s 4ms/step - loss: 0.3466 - accuracy: 0.8501 - val_loss: 0.3637 - val_accuracy: 0.8388 - lr: 0.0010\n",
            "Epoch 34/50\n",
            "728/728 [==============================] - 3s 4ms/step - loss: 0.3455 - accuracy: 0.8504 - val_loss: 0.3701 - val_accuracy: 0.8470 - lr: 0.0010\n",
            "Epoch 35/50\n",
            "728/728 [==============================] - 3s 5ms/step - loss: 0.3443 - accuracy: 0.8509 - val_loss: 0.3572 - val_accuracy: 0.8484 - lr: 0.0010\n",
            "Epoch 36/50\n",
            "728/728 [==============================] - 3s 5ms/step - loss: 0.3421 - accuracy: 0.8525 - val_loss: 0.3701 - val_accuracy: 0.8426 - lr: 0.0010\n",
            "Epoch 37/50\n",
            "728/728 [==============================] - 3s 4ms/step - loss: 0.3365 - accuracy: 0.8558 - val_loss: 0.3631 - val_accuracy: 0.8426 - lr: 1.0000e-04\n",
            "Epoch 38/50\n",
            "728/728 [==============================] - 3s 5ms/step - loss: 0.3321 - accuracy: 0.8568 - val_loss: 0.3617 - val_accuracy: 0.8432 - lr: 1.0000e-04\n",
            "Epoch 39/50\n",
            "728/728 [==============================] - 3s 5ms/step - loss: 0.3339 - accuracy: 0.8543 - val_loss: 0.3614 - val_accuracy: 0.8457 - lr: 1.0000e-04\n",
            "Epoch 40/50\n",
            "728/728 [==============================] - 3s 5ms/step - loss: 0.3321 - accuracy: 0.8555 - val_loss: 0.3624 - val_accuracy: 0.8460 - lr: 1.0000e-04\n",
            "Epoch 41/50\n",
            "728/728 [==============================] - 3s 5ms/step - loss: 0.3330 - accuracy: 0.8578 - val_loss: 0.3613 - val_accuracy: 0.8463 - lr: 1.0000e-04\n",
            "Epoch 42/50\n",
            "728/728 [==============================] - 3s 4ms/step - loss: 0.3330 - accuracy: 0.8588 - val_loss: 0.3620 - val_accuracy: 0.8463 - lr: 1.0000e-04\n",
            "Epoch 43/50\n",
            "728/728 [==============================] - 3s 5ms/step - loss: 0.3328 - accuracy: 0.8552 - val_loss: 0.3603 - val_accuracy: 0.8463 - lr: 1.0000e-04\n",
            "Epoch 44/50\n",
            "728/728 [==============================] - 3s 4ms/step - loss: 0.3335 - accuracy: 0.8550 - val_loss: 0.3622 - val_accuracy: 0.8467 - lr: 1.0000e-04\n",
            "Epoch 45/50\n",
            "728/728 [==============================] - 3s 5ms/step - loss: 0.3315 - accuracy: 0.8583 - val_loss: 0.3622 - val_accuracy: 0.8450 - lr: 1.0000e-04\n",
            "Epoch 46/50\n",
            "728/728 [==============================] - 3s 4ms/step - loss: 0.3314 - accuracy: 0.8555 - val_loss: 0.3622 - val_accuracy: 0.8463 - lr: 1.0000e-04\n"
          ]
        },
        {
          "output_type": "execute_result",
          "data": {
            "text/plain": [
              "<keras.callbacks.History at 0x7fca17869850>"
            ]
          },
          "metadata": {},
          "execution_count": 78
        }
      ],
      "source": [
        "model.fit(x=x1_train, y=y1_train, epochs=50, validation_data=(x1_dev, y1_dev), callbacks=[reduce_lr, early_stopping], verbose=1)"
      ]
    },
    {
      "cell_type": "code",
      "execution_count": null,
      "metadata": {
        "scrolled": true,
        "id": "N8nhpUQmY6Lo",
        "outputId": "fcdad241-10c7-4538-8291-e6ca9537bd5e",
        "colab": {
          "base_uri": "https://localhost:8080/"
        }
      },
      "outputs": [
        {
          "output_type": "stream",
          "name": "stdout",
          "text": [
            "Training set:\n",
            "\tAccuracy:0.866\n",
            "\tClassification Report\n",
            "              precision    recall  f1-score   support\n",
            "\n",
            "         0.0       0.88      0.95      0.92     18122\n",
            "         1.0       0.78      0.56      0.65      5151\n",
            "\n",
            "    accuracy                           0.87     23273\n",
            "   macro avg       0.83      0.76      0.78     23273\n",
            "weighted avg       0.86      0.87      0.86     23273\n",
            "\n",
            "Dev set:\n",
            "\tAccuracy:0.846\n",
            "\tClassification Report\n",
            "              precision    recall  f1-score   support\n",
            "\n",
            "         0.0       0.86      0.95      0.91      2247\n",
            "         1.0       0.75      0.49      0.59       662\n",
            "\n",
            "    accuracy                           0.85      2909\n",
            "   macro avg       0.81      0.72      0.75      2909\n",
            "weighted avg       0.84      0.85      0.83      2909\n",
            "\n",
            "Test set:\n",
            "\tAccuracy:0.845\n",
            "\tClassification Report\n",
            "              precision    recall  f1-score   support\n",
            "\n",
            "         0.0       0.87      0.95      0.91      2295\n",
            "         1.0       0.70      0.47      0.56       615\n",
            "\n",
            "    accuracy                           0.84      2910\n",
            "   macro avg       0.78      0.71      0.73      2910\n",
            "weighted avg       0.83      0.84      0.83      2910\n",
            "\n"
          ]
        }
      ],
      "source": [
        "from sklearn.metrics import classification_report, accuracy_score\n",
        "x_lst = [x1_train, x1_dev, x1_test]\n",
        "y_lst = [y1_train, y1_dev, y1_test]\n",
        "for i,(x,y) in enumerate(zip(x_lst, y_lst)):\n",
        "    y_pred = model.predict(x)\n",
        "    y_pred = np.around(y_pred)\n",
        "    y_pred = np.asarray(y_pred)\n",
        "    if i == 0:\n",
        "        print('Training set:')\n",
        "        print('\\tAccuracy:{:0.3f}\\n\\tClassification Report\\n{}'.format(accuracy_score(y, y_pred), \n",
        "                                                                  classification_report(y, y_pred)))\n",
        "    elif i == 1:\n",
        "        print('Dev set:')\n",
        "        print('\\tAccuracy:{:0.3f}\\n\\tClassification Report\\n{}'.format(accuracy_score(y, y_pred), \n",
        "                                                                  classification_report(y, y_pred)))\n",
        "    else:\n",
        "        print('Test set:')\n",
        "        print('\\tAccuracy:{:0.3f}\\n\\tClassification Report\\n{}'.format(accuracy_score(y, y_pred), \n",
        "                                                                  classification_report(y, y_pred)))"
      ]
    },
    {
      "cell_type": "code",
      "execution_count": null,
      "metadata": {
        "id": "XMwh0Va3Y6Lo"
      },
      "outputs": [],
      "source": [
        "from keras.datasets import mnist"
      ]
    },
    {
      "cell_type": "code",
      "execution_count": null,
      "metadata": {
        "id": "QnC4Pk78Y6Lp",
        "colab": {
          "base_uri": "https://localhost:8080/"
        },
        "outputId": "cb482879-a2dd-41e5-cfda-8af7c4d10b24"
      },
      "outputs": [
        {
          "output_type": "stream",
          "name": "stdout",
          "text": [
            "Downloading data from https://storage.googleapis.com/tensorflow/tf-keras-datasets/mnist.npz\n",
            "11493376/11490434 [==============================] - 0s 0us/step\n",
            "11501568/11490434 [==============================] - 0s 0us/step\n"
          ]
        }
      ],
      "source": [
        "(trainx,trainy), (testx,testy) = mnist.load_data()"
      ]
    },
    {
      "cell_type": "code",
      "execution_count": null,
      "metadata": {
        "id": "ZjfIr7TeY6Lp",
        "outputId": "dfdb2399-e4e2-4c1a-c2b5-b75b69e05def",
        "colab": {
          "base_uri": "https://localhost:8080/"
        }
      },
      "outputs": [
        {
          "output_type": "execute_result",
          "data": {
            "text/plain": [
              "array([[[0, 0, 0, ..., 0, 0, 0],\n",
              "        [0, 0, 0, ..., 0, 0, 0],\n",
              "        [0, 0, 0, ..., 0, 0, 0],\n",
              "        ...,\n",
              "        [0, 0, 0, ..., 0, 0, 0],\n",
              "        [0, 0, 0, ..., 0, 0, 0],\n",
              "        [0, 0, 0, ..., 0, 0, 0]],\n",
              "\n",
              "       [[0, 0, 0, ..., 0, 0, 0],\n",
              "        [0, 0, 0, ..., 0, 0, 0],\n",
              "        [0, 0, 0, ..., 0, 0, 0],\n",
              "        ...,\n",
              "        [0, 0, 0, ..., 0, 0, 0],\n",
              "        [0, 0, 0, ..., 0, 0, 0],\n",
              "        [0, 0, 0, ..., 0, 0, 0]],\n",
              "\n",
              "       [[0, 0, 0, ..., 0, 0, 0],\n",
              "        [0, 0, 0, ..., 0, 0, 0],\n",
              "        [0, 0, 0, ..., 0, 0, 0],\n",
              "        ...,\n",
              "        [0, 0, 0, ..., 0, 0, 0],\n",
              "        [0, 0, 0, ..., 0, 0, 0],\n",
              "        [0, 0, 0, ..., 0, 0, 0]],\n",
              "\n",
              "       ...,\n",
              "\n",
              "       [[0, 0, 0, ..., 0, 0, 0],\n",
              "        [0, 0, 0, ..., 0, 0, 0],\n",
              "        [0, 0, 0, ..., 0, 0, 0],\n",
              "        ...,\n",
              "        [0, 0, 0, ..., 0, 0, 0],\n",
              "        [0, 0, 0, ..., 0, 0, 0],\n",
              "        [0, 0, 0, ..., 0, 0, 0]],\n",
              "\n",
              "       [[0, 0, 0, ..., 0, 0, 0],\n",
              "        [0, 0, 0, ..., 0, 0, 0],\n",
              "        [0, 0, 0, ..., 0, 0, 0],\n",
              "        ...,\n",
              "        [0, 0, 0, ..., 0, 0, 0],\n",
              "        [0, 0, 0, ..., 0, 0, 0],\n",
              "        [0, 0, 0, ..., 0, 0, 0]],\n",
              "\n",
              "       [[0, 0, 0, ..., 0, 0, 0],\n",
              "        [0, 0, 0, ..., 0, 0, 0],\n",
              "        [0, 0, 0, ..., 0, 0, 0],\n",
              "        ...,\n",
              "        [0, 0, 0, ..., 0, 0, 0],\n",
              "        [0, 0, 0, ..., 0, 0, 0],\n",
              "        [0, 0, 0, ..., 0, 0, 0]]], dtype=uint8)"
            ]
          },
          "metadata": {},
          "execution_count": 82
        }
      ],
      "source": [
        "trainx"
      ]
    },
    {
      "cell_type": "code",
      "execution_count": null,
      "metadata": {
        "id": "vwPwnuWsY6Lp",
        "outputId": "0de4038e-96f0-4822-dc4a-9ec9002f818d",
        "colab": {
          "base_uri": "https://localhost:8080/"
        }
      },
      "outputs": [
        {
          "output_type": "execute_result",
          "data": {
            "text/plain": [
              "numpy.ndarray"
            ]
          },
          "metadata": {},
          "execution_count": 83
        }
      ],
      "source": [
        "type(trainy)"
      ]
    },
    {
      "cell_type": "code",
      "execution_count": null,
      "metadata": {
        "id": "UpJgHbP3Y6Lp",
        "outputId": "f403ede3-cb88-4e98-c689-74f44e3b734d",
        "colab": {
          "base_uri": "https://localhost:8080/"
        }
      },
      "outputs": [
        {
          "output_type": "stream",
          "name": "stdout",
          "text": [
            "Train: x=(60000, 28, 28), y=(60000,)\n",
            "Test: x=(10000, 28, 28), y=(10000,)\n"
          ]
        }
      ],
      "source": [
        "print('Train: x=%s, y=%s' % (trainx.shape, trainy.shape))\n",
        "print('Test: x=%s, y=%s' % (testx.shape, testy.shape))"
      ]
    },
    {
      "cell_type": "code",
      "execution_count": null,
      "metadata": {
        "id": "4jr_XZFuY6Lp",
        "outputId": "286d7330-5efd-4bf0-b4f4-6d95e17bd92b",
        "colab": {
          "base_uri": "https://localhost:8080/",
          "height": 268
        }
      },
      "outputs": [
        {
          "output_type": "display_data",
          "data": {
            "text/plain": [
              "<Figure size 432x288 with 9 Axes>"
            ],
            "image/png": "[encoded data removed]"
          },
          "metadata": {
            "needs_background": "light"
          }
        }
      ],
      "source": [
        "from matplotlib import pyplot as plt\n",
        "\n",
        "for i in range(9):\n",
        "    plt.subplot(330+1+i)\n",
        "    plt.imshow(trainx[i], cmap=plt.get_cmap('gray'))\n",
        "plt.show()"
      ]
    },
    {
      "cell_type": "code",
      "execution_count": null,
      "metadata": {
        "id": "bEO3LerZY6Lp"
      },
      "outputs": [],
      "source": [
        "trainx = trainx.reshape((trainx.shape[0],28,28,1))\n",
        "testx = testx.reshape((testx.shape[0],28,28,1))"
      ]
    },
    {
      "cell_type": "code",
      "execution_count": null,
      "metadata": {
        "id": "FPmj08UOY6Lq"
      },
      "outputs": [],
      "source": [
        "from keras.utils.np_utils import to_categorical\n",
        "\n",
        "trainy =to_categorical(trainy,10)\n",
        "testy = to_categorical(testy,10)"
      ]
    },
    {
      "cell_type": "code",
      "execution_count": null,
      "metadata": {
        "id": "kF6vTsGxY6Lq",
        "outputId": "6d283eb9-07ec-4024-86d4-86f2a9dce297",
        "colab": {
          "base_uri": "https://localhost:8080/"
        }
      },
      "outputs": [
        {
          "output_type": "execute_result",
          "data": {
            "text/plain": [
              "((60000, 28, 28, 1), (10000, 28, 28, 1))"
            ]
          },
          "metadata": {},
          "execution_count": 88
        }
      ],
      "source": [
        "trainx.shape , testx.shape"
      ]
    },
    {
      "cell_type": "code",
      "execution_count": null,
      "metadata": {
        "id": "dQXdMODtY6Lq"
      },
      "outputs": [],
      "source": [
        "img_rows , img_cols = 28,28\n",
        "input_shape = (img_rows,img_cols,1)"
      ]
    },
    {
      "cell_type": "code",
      "execution_count": null,
      "metadata": {
        "id": "F4EoUU_sY6Lq"
      },
      "outputs": [],
      "source": [
        "import keras\n",
        "model = keras.Sequential([\n",
        "    keras.Input(shape = input_shape),\n",
        "    layers.Conv2D(32,kernel_size= (3,3), activation = 'relu'),\n",
        "    layers.MaxPooling2D(pool_size = (2,2)),\n",
        "    layers.Conv2D(64,kernel_size= (3,3), activation = 'relu'),\n",
        "    layers.Flatten(),\n",
        "    layers.Dense(10,activation = 'softmax')\n",
        "])"
      ]
    },
    {
      "cell_type": "code",
      "execution_count": null,
      "metadata": {
        "id": "2JejgPbbY6Lq",
        "outputId": "f81338eb-c632-4356-b00c-2c05f0511de9",
        "colab": {
          "base_uri": "https://localhost:8080/"
        }
      },
      "outputs": [
        {
          "output_type": "stream",
          "name": "stdout",
          "text": [
            "Model: \"sequential_1\"\n",
            "_________________________________________________________________\n",
            " Layer (type)                Output Shape              Param #   \n",
            "=================================================================\n",
            " conv2d (Conv2D)             (None, 26, 26, 32)        320       \n",
            "                                                                 \n",
            " max_pooling2d (MaxPooling2D  (None, 13, 13, 32)       0         \n",
            " )                                                               \n",
            "                                                                 \n",
            " conv2d_1 (Conv2D)           (None, 11, 11, 64)        18496     \n",
            "                                                                 \n",
            " flatten (Flatten)           (None, 7744)              0         \n",
            "                                                                 \n",
            " dense_3 (Dense)             (None, 10)                77450     \n",
            "                                                                 \n",
            "=================================================================\n",
            "Total params: 96,266\n",
            "Trainable params: 96,266\n",
            "Non-trainable params: 0\n",
            "_________________________________________________________________\n"
          ]
        }
      ],
      "source": [
        "model.summary()"
      ]
    },
    {
      "cell_type": "code",
      "execution_count": null,
      "metadata": {
        "id": "yNkhQSYRY6Lq"
      },
      "outputs": [],
      "source": [
        "model.compile(loss='categorical_crossentropy', optimizer = \"adam\", metrics = [\"accuracy\"])"
      ]
    },
    {
      "cell_type": "code",
      "execution_count": null,
      "metadata": {
        "id": "83KBxaO7Y6Lq",
        "outputId": "c5932f78-bfdc-449c-fa3a-5c46f909d226",
        "colab": {
          "base_uri": "https://localhost:8080/"
        }
      },
      "outputs": [
        {
          "output_type": "stream",
          "name": "stdout",
          "text": [
            "Epoch 1/5\n",
            "422/422 [==============================] - 12s 6ms/step - loss: 0.6663 - accuracy: 0.9317 - val_loss: 0.0625 - val_accuracy: 0.9853\n",
            "Epoch 2/5\n",
            "422/422 [==============================] - 2s 5ms/step - loss: 0.0551 - accuracy: 0.9830 - val_loss: 0.0560 - val_accuracy: 0.9842\n",
            "Epoch 3/5\n",
            "422/422 [==============================] - 2s 6ms/step - loss: 0.0342 - accuracy: 0.9893 - val_loss: 0.0565 - val_accuracy: 0.9848\n",
            "Epoch 4/5\n",
            "422/422 [==============================] - 2s 5ms/step - loss: 0.0276 - accuracy: 0.9911 - val_loss: 0.0523 - val_accuracy: 0.9875\n",
            "Epoch 5/5\n",
            "422/422 [==============================] - 2s 5ms/step - loss: 0.0231 - accuracy: 0.9919 - val_loss: 0.0799 - val_accuracy: 0.9832\n"
          ]
        },
        {
          "output_type": "execute_result",
          "data": {
            "text/plain": [
              "<keras.callbacks.History at 0x7fca1609ae50>"
            ]
          },
          "metadata": {},
          "execution_count": 93
        }
      ],
      "source": [
        "model.fit(trainx,trainy,batch_size=128,epochs=5,validation_split=0.1)"
      ]
    },
    {
      "cell_type": "code",
      "execution_count": null,
      "metadata": {
        "id": "TEi-0nZLY6Lq",
        "outputId": "19991ac9-0b07-4e65-d18e-f9d972f01f38",
        "colab": {
          "base_uri": "https://localhost:8080/"
        }
      },
      "outputs": [
        {
          "output_type": "stream",
          "name": "stdout",
          "text": [
            "313/313 [==============================] - 1s 3ms/step - loss: 0.0667 - accuracy: 0.9823\n",
            "loss= 0.06670203059911728\n",
            "accuracy= 0.9822999835014343\n"
          ]
        }
      ],
      "source": [
        "score = model.evaluate(testx, testy)\n",
        "print('loss=', score[0])\n",
        "print('accuracy=', score[1])"
      ]
    },
    {
      "cell_type": "code",
      "execution_count": null,
      "metadata": {
        "id": "lTGzE2BSY6Lq"
      },
      "outputs": [],
      "source": [
        "model2 = keras.Sequential([\n",
        "    keras.Input(shape = input_shape),\n",
        "    layers.Conv2D(32,kernel_size= (3,3), activation = 'relu'),\n",
        "    layers.MaxPooling2D(pool_size = (2,2)),\n",
        "    layers.Conv2D(64,kernel_size= (3,3), activation = 'relu'),\n",
        "    layers.Flatten(),\n",
        "    layers.Dropout(0.4),\n",
        "    layers.Dense(10,activation = 'softmax')\n",
        "])"
      ]
    },
    {
      "cell_type": "code",
      "execution_count": null,
      "metadata": {
        "id": "HC-28Gi9Y6Lq"
      },
      "outputs": [],
      "source": [
        "model2.compile(loss='categorical_crossentropy', optimizer = \"adam\", metrics = [\"accuracy\"])"
      ]
    },
    {
      "cell_type": "code",
      "execution_count": null,
      "metadata": {
        "id": "JwNsSQyjY6Lq",
        "outputId": "0db65cce-3309-4ebe-a8da-20539ffcb226",
        "colab": {
          "base_uri": "https://localhost:8080/"
        }
      },
      "outputs": [
        {
          "output_type": "stream",
          "name": "stdout",
          "text": [
            "Epoch 1/5\n",
            "422/422 [==============================] - 3s 6ms/step - loss: 0.7681 - accuracy: 0.9139 - val_loss: 0.0602 - val_accuracy: 0.9825\n",
            "Epoch 2/5\n",
            "422/422 [==============================] - 2s 5ms/step - loss: 0.0964 - accuracy: 0.9702 - val_loss: 0.0539 - val_accuracy: 0.9858\n",
            "Epoch 3/5\n",
            "422/422 [==============================] - 2s 5ms/step - loss: 0.0739 - accuracy: 0.9772 - val_loss: 0.0485 - val_accuracy: 0.9888\n",
            "Epoch 4/5\n",
            "422/422 [==============================] - 2s 5ms/step - loss: 0.0633 - accuracy: 0.9808 - val_loss: 0.0469 - val_accuracy: 0.9878\n",
            "Epoch 5/5\n",
            "422/422 [==============================] - 2s 5ms/step - loss: 0.0542 - accuracy: 0.9832 - val_loss: 0.0488 - val_accuracy: 0.9880\n"
          ]
        },
        {
          "output_type": "execute_result",
          "data": {
            "text/plain": [
              "<keras.callbacks.History at 0x7fca093eff50>"
            ]
          },
          "metadata": {},
          "execution_count": 98
        }
      ],
      "source": [
        "model2.fit(trainx,trainy,batch_size=128,epochs=5,validation_split=0.1)"
      ]
    },
    {
      "cell_type": "code",
      "execution_count": null,
      "metadata": {
        "id": "VrjLdHqiY6Lq",
        "outputId": "65be56cb-7b08-42af-c811-60d52047eb02",
        "colab": {
          "base_uri": "https://localhost:8080/"
        }
      },
      "outputs": [
        {
          "output_type": "stream",
          "name": "stdout",
          "text": [
            "313/313 [==============================] - 1s 3ms/step - loss: 0.0556 - accuracy: 0.9839\n",
            "loss= 0.05563961714506149\n",
            "accuracy after dropout(0.4) = 0.9839000105857849\n"
          ]
        }
      ],
      "source": [
        "result = model2.evaluate(testx, testy)\n",
        "print('loss=', result[0])\n",
        "print('accuracy after dropout(0.4) =', result[1])"
      ]
    }
  ],
  "metadata": {
    "accelerator": "GPU",
    "colab": {
      "collapsed_sections": [],
      "provenance": []
    },
    "kernelspec": {
      "display_name": "Python 3",
      "language": "python",
      "name": "python3"
    },
    "language_info": {
      "codemirror_mode": {
        "name": "ipython",
        "version": 3
      },
      "file_extension": ".py",
      "mimetype": "text/x-python",
      "name": "python",
      "nbconvert_exporter": "python",
      "pygments_lexer": "ipython3",
      "version": "3.8.8"
    }
  },
  "nbformat": 4,
  "nbformat_minor": 0
}